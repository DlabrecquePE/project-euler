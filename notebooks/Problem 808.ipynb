{
 "cells": [
  {
   "cell_type": "code",
   "execution_count": 1,
   "metadata": {},
   "outputs": [],
   "source": [
    "def gen_primes():\n",
    "    \"\"\" Generate an infinite sequence of prime numbers \"\"\"\n",
    "    d, q = {}, 2\n",
    "    while True:\n",
    "        if q not in d:\n",
    "            yield q\n",
    "            d[q * q] = [q]\n",
    "        else:\n",
    "            for p in d[q]:\n",
    "                d.setdefault(p + q, []).append(p)\n",
    "            del d[q]\n",
    "        q += 1"
   ]
  },
  {
   "cell_type": "code",
   "execution_count": 2,
   "metadata": {},
   "outputs": [
    {
     "name": "stdout",
     "output_type": "stream",
     "text": [
      "1 0\n",
      "2 0\n",
      "3 2\n",
      "4 2\n",
      "5 4\n",
      "6 4\n",
      "7 10\n",
      "8 10\n",
      "9 12\n",
      "10 12\n",
      "11 16\n",
      "12 16\n",
      "13 32\n",
      "14 32\n",
      "15 50\n",
      "3807504276997394\n"
     ]
    }
   ],
   "source": [
    "primer, len_prime_square, reversible_set = gen_primes(), 1, set()\n",
    "prime_square_set, prime_square, max_prime_squares = set(), next(primer) ** 2, 50\n",
    "while True:\n",
    "    if len(str(prime_square)) == len_prime_square:\n",
    "        prime_square_set.add(prime_square)\n",
    "        prime_square = next(primer) ** 2\n",
    "    else:\n",
    "        for elem in prime_square_set:\n",
    "            mele = int(str(elem)[::-1])\n",
    "            if mele != elem and mele in prime_square_set:\n",
    "                reversible_set.update({elem, mele})\n",
    "        len_prime_square += 1\n",
    "        prime_square_set = set()\n",
    "    if len(reversible_set) >= max_prime_squares:\n",
    "        break\n",
    "sum_list = list(reversible_set)\n",
    "print(sum(sorted(sum_list)[0:50]))"
   ]
  },
  {
   "cell_type": "code",
   "execution_count": null,
   "metadata": {},
   "outputs": [],
   "source": []
  }
 ],
 "metadata": {
  "kernelspec": {
   "display_name": "Python 3",
   "language": "python",
   "name": "python3"
  },
  "language_info": {
   "codemirror_mode": {
    "name": "ipython",
    "version": 3
   },
   "file_extension": ".py",
   "mimetype": "text/x-python",
   "name": "python",
   "nbconvert_exporter": "python",
   "pygments_lexer": "ipython3",
   "version": "3.9.0"
  },
  "orig_nbformat": 4
 },
 "nbformat": 4,
 "nbformat_minor": 2
}
