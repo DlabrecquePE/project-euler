{
 "cells": [
  {
   "cell_type": "code",
   "execution_count": 3,
   "metadata": {},
   "outputs": [
    {
     "name": "stdout",
     "output_type": "stream",
     "text": [
      "329468\n"
     ]
    }
   ],
   "source": [
    "from math import log10\n",
    "\n",
    "f_1, f_2, k = 63245986, 39088169, 40\n",
    "root5 = 2.23606797749978969\n",
    "phi = 1.618033988749894\n",
    "while True:\n",
    "    f_string = str(f_1 + f_2)[-9:]\n",
    "    f_k = int(f_string)\n",
    "    if  len(set(f_string).difference('0')) == 9:        \n",
    "        f_n = k * log10(phi) - log10(root5)\n",
    "        first_digits = str(10 ** (f_n % 1))\n",
    "        if len(set(first_digits[:10]).difference(['0', '.'])) == 9:\n",
    "            print(k)\n",
    "            break\n",
    "    f_1, f_2 = f_k, f_1\n",
    "    k += 1\n"
   ]
  }
 ],
 "metadata": {
  "kernelspec": {
   "display_name": "Python 3",
   "language": "python",
   "name": "python3"
  },
  "language_info": {
   "codemirror_mode": {
    "name": "ipython",
    "version": 3
   },
   "file_extension": ".py",
   "mimetype": "text/x-python",
   "name": "python",
   "nbconvert_exporter": "python",
   "pygments_lexer": "ipython3",
   "version": "3.9.0"
  },
  "orig_nbformat": 4
 },
 "nbformat": 4,
 "nbformat_minor": 2
}
