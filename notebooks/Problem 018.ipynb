{
 "cells": [
  {
   "cell_type": "markdown",
   "metadata": {},
   "source": [
    "# Maximal path sum I\r\n",
    "## Problem 18\r\n",
    "\r\n",
    "---\r\n",
    "\r\n",
    "<p>By starting at the top of the triangle below and moving to adjacent numbers on the row below, the maximum total from top to bottom is 23.</p>\r\n",
    "<p class=\"monospace center\"><span class=\"red\"><b>3</b></span><br /><span class=\"red\"><b>7</b></span> 4<br />\r\n",
    "2 <span class=\"red\"><b>4</b></span> 6<br />\r\n",
    "8 5 <span class=\"red\"><b>9</b></span> 3</p>\r\n",
    "<p>That is, 3 + 7 + 4 + 9 = 23.</p>\r\n",
    "<p>Find the maximum total from top to bottom of the triangle below:</p>\r\n",
    "<p class=\"monospace center\">75<br />\r\n",
    "95 64<br />\r\n",
    "17 47 82<br />\r\n",
    "18 35 87 10<br />\r\n",
    "20 04 82 47 65<br />\r\n",
    "19 01 23 75 03 34<br />\r\n",
    "88 02 77 73 07 63 67<br />\r\n",
    "99 65 04 28 06 16 70 92<br />\r\n",
    "41 41 26 56 83 40 80 70 33<br />\r\n",
    "41 48 72 33 47 32 37 16 94 29<br />\r\n",
    "53 71 44 65 25 43 91 52 97 51 14<br />\r\n",
    "70 11 33 28 77 73 17 78 39 68 17 57<br />\r\n",
    "91 71 52 38 17 14 91 43 58 50 27 29 48<br />\r\n",
    "63 66 04 68 89 53 67 30 73 16 69 87 40 31<br />\r\n",
    "04 62 98 27 23 09 70 98 73 93 38 53 60 04 23</p>\r\n",
    "<p class=\"note\"><b>NOTE:</b> As there are only 16384 routes, it is possible to solve this problem by trying every route. However, <a href=\"problem=67\">Problem 67</a>, is the same challenge with a triangle containing one-hundred rows; it cannot be solved by brute force, and requires a clever method! ;o)</p>\r\n",
    "\r\n",
    "---"
   ]
  },
  {
   "cell_type": "code",
   "execution_count": 8,
   "metadata": {},
   "outputs": [
    {
     "name": "stdout",
     "output_type": "stream",
     "text": [
      "1074\n"
     ]
    }
   ],
   "source": [
    "data = open(\"data\\p018_data.txt\", \"r\")\r\n",
    "\r\n",
    "data_array = []\r\n",
    "for line in data.readlines():\r\n",
    "        data_array.append([int(x) for x in line.strip('\\n').split()])\r\n",
    "\r\n",
    "while len(data_array) > 1:\r\n",
    "    leaves = data_array.pop()\r\n",
    "    leaves = [max(leaves[i:i+2]) for i in range(len(leaves) - 1)]\r\n",
    "    data_array[-1] = [sum(i) for i in zip(data_array[-1], leaves)]\r\n",
    "print(data_array.pop().pop())"
   ]
  }
 ],
 "metadata": {
  "kernelspec": {
   "display_name": "Python 3",
   "name": "python3"
  },
  "language_info": {
   "codemirror_mode": {
    "name": "ipython",
    "version": 3
   },
   "file_extension": ".py",
   "mimetype": "text/x-python",
   "name": "python",
   "nbconvert_exporter": "python",
   "pygments_lexer": "ipython3",
   "version": "3.9.0"
  },
  "orig_nbformat": 2
 },
 "nbformat": 4,
 "nbformat_minor": 2
}