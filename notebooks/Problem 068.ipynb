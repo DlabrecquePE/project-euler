{
 "cells": [
  {
   "cell_type": "code",
   "execution_count": 12,
   "metadata": {},
   "outputs": [],
   "source": [
    "import itertools"
   ]
  },
  {
   "cell_type": "code",
   "execution_count": 13,
   "metadata": {},
   "outputs": [],
   "source": [
    "def is_solution(test):\n",
    "     elim_list = [1, 1, 2, 2, 3, 3, 4, 4, 5, 5, 6, 6, 7, 7, 8, 8, 9, 9]\n",
    "     a_list, b_list = test[2::3], test[0::3] + test[1::3]\n",
    "     if any(a for a in a_list if a in b_list) or len(a_list) != len(set(a_list)):\n",
    "          return False\n",
    "     for num in test:\n",
    "          if num in elim_list:\n",
    "               elim_list.remove(num)\n",
    "          else:\n",
    "               return False\n",
    "     list_len = len(elim_list)\n",
    "     if list_len == 4 and list_len == len(set(elim_list)) :\n",
    "          return True\n",
    "     return False"
   ]
  },
  {
   "cell_type": "code",
   "execution_count": 14,
   "metadata": {},
   "outputs": [],
   "source": [
    "tuple_list, look_up = [(y, x) for x in range(1, 10) for y in range(1, x + 1) if x != y], {}\n",
    "for tup in tuple_list:\n",
    "    look_up.setdefault(sum(tup), []).append(tup)"
   ]
  },
  {
   "cell_type": "code",
   "execution_count": 15,
   "metadata": {},
   "outputs": [],
   "source": [
    "triple_dict, heads = {}, []\n",
    "for total in range(13, 19):\n",
    "    for tup in look_up[total - 10]:\n",
    "        heads.append((10,) + tup)\n",
    "    triples = []\n",
    "    for outer in range(1,10):\n",
    "        key = total - outer\n",
    "        if key in look_up:\n",
    "            for tup in look_up[key]:\n",
    "                if outer not in tup:\n",
    "                    triples.append((outer,) + tup)\n",
    "            triple_dict[total] = triples       "
   ]
  },
  {
   "cell_type": "code",
   "execution_count": 16,
   "metadata": {},
   "outputs": [
    {
     "name": "stdout",
     "output_type": "stream",
     "text": [
      "[[(10, 1, 3), (6, 3, 5), (7, 2, 5), (8, 2, 4), (9, 1, 4)], [(10, 1, 5), (2, 5, 9), (4, 3, 9), (6, 3, 7), (8, 1, 7)]]\n"
     ]
    }
   ],
   "source": [
    "solutions = []\n",
    "for head in heads:\n",
    "    test_cases = itertools.combinations(triple_dict[sum(head)], 4)\n",
    "    for case in test_cases:\n",
    "        test_list = [head[1], head[2]]\n",
    "        for tup in case:\n",
    "            test_list = test_list + [tup[0], tup[1], tup[2]]\n",
    "        if is_solution(test_list):\n",
    "            solution = [head] + list(case)\n",
    "            solutions.append(solution)\n",
    "print(solutions)\n",
    "    "
   ]
  }
 ],
 "metadata": {
  "kernelspec": {
   "display_name": "Python 3",
   "language": "python",
   "name": "python3"
  },
  "language_info": {
   "codemirror_mode": {
    "name": "ipython",
    "version": 3
   },
   "file_extension": ".py",
   "mimetype": "text/x-python",
   "name": "python",
   "nbconvert_exporter": "python",
   "pygments_lexer": "ipython3",
   "version": "3.9.0"
  },
  "orig_nbformat": 4
 },
 "nbformat": 4,
 "nbformat_minor": 2
}
