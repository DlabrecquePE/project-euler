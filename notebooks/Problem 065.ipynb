{
 "cells": [
  {
   "cell_type": "code",
   "execution_count": 2,
   "metadata": {
    "collapsed": true
   },
   "outputs": [],
   "source": [
    "def continued_fraction(seq):\n",
    "    if len(seq) == 1:\n",
    "        return seq[0]\n",
    "    return seq.pop(0) + 1 / continued_fraction(seq)"
   ]
  },
  {
   "cell_type": "code",
   "execution_count": 39,
   "metadata": {},
   "outputs": [],
   "source": [
    "def fract_sqrt2():\n",
    "    yield 1\n",
    "    while True:\n",
    "        yield 2"
   ]
  },
  {
   "cell_type": "code",
   "execution_count": 40,
   "metadata": {},
   "outputs": [],
   "source": [
    "def fract_e():\n",
    "    yield 2\n",
    "    count = 1\n",
    "    while True:\n",
    "        yield 1\n",
    "        yield 2 * count\n",
    "        yield 1\n",
    "        count += 1"
   ]
  },
  {
   "cell_type": "code",
   "execution_count": 44,
   "metadata": {},
   "outputs": [],
   "source": [
    "def calc_cont_fract(seq):\n",
    "    d, n = seq.pop(), 1\n",
    "    while len(seq) > 1:\n",
    "        n = d * seq.pop() + n  \n",
    "        d, n = n, d\n",
    "    return (seq.pop() * d + n, d)"
   ]
  },
  {
   "cell_type": "code",
   "execution_count": 53,
   "metadata": {},
   "outputs": [
    {
     "name": "stdout",
     "output_type": "stream",
     "text": [
      "272\n"
     ]
    }
   ],
   "source": [
    "e_gen = fract_e()\n",
    "e_seq = [next(e_gen) for x in range(100)]\n",
    "fraction = calc_cont_fract(e_seq)\n",
    "res = [int(x) for x in str(fraction[0])]\n",
    "print(sum(res))"
   ]
  },
  {
   "cell_type": "code",
   "execution_count": null,
   "metadata": {},
   "outputs": [],
   "source": [
    ""
   ]
  }
 ],
 "metadata": {
  "kernelspec": {
   "display_name": "Python 2",
   "language": "python",
   "name": "python2"
  },
  "language_info": {
   "codemirror_mode": {
    "name": "ipython",
    "version": 2.0
   },
   "file_extension": ".py",
   "mimetype": "text/x-python",
   "name": "python",
   "nbconvert_exporter": "python",
   "pygments_lexer": "ipython2",
   "version": "2.7.6"
  }
 },
 "nbformat": 4,
 "nbformat_minor": 0
}