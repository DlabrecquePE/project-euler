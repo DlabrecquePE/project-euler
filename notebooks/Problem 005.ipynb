{
 "metadata": {
  "language_info": {
   "codemirror_mode": {
    "name": "ipython",
    "version": 3
   },
   "file_extension": ".py",
   "mimetype": "text/x-python",
   "name": "python",
   "nbconvert_exporter": "python",
   "pygments_lexer": "ipython3",
   "version": "3.9.0-final"
  },
  "orig_nbformat": 2,
  "kernelspec": {
   "name": "python3",
   "display_name": "Python 3",
   "language": "python"
  }
 },
 "nbformat": 4,
 "nbformat_minor": 2,
 "cells": [
  {
   "source": [
    "# Smallest multiple\n",
    "## Problem 5\n",
    "---\n",
    "<p>2520 is the smallest number that can be divided by each of the numbers from 1 to 10 without any remainder.</p>\n",
    "<p>What is the smallest positive number that is <dfn title=\"divisible with no remainder\">evenly divisible</dfn> by all of the numbers from 1 to 20?</p>\n",
    "\n",
    "---\n"
   ],
   "cell_type": "markdown",
   "metadata": {}
  },
  {
   "source": [
    "This number will obviously have to be composed of prime factors <= 20. "
   ],
   "cell_type": "markdown",
   "metadata": {}
  },
  {
   "source": [
    "The prime #'s below 20 are 19, 17, 13, 11, 7, 5, 3, and 2."
   ],
   "cell_type": "markdown",
   "metadata": {}
  },
  {
   "source": [
    "We will need to further minimize the number of each prime factor. The number 16 for instance is 2</sup>4</sup> so we will need to include 4 factors of 2 in the final product. With this in mind we can go through each divisor 1 through 20, work out each prime factorization, and ensure our final product has just enough factors to account for each divisor."
   ],
   "cell_type": "markdown",
   "metadata": {}
  },
  {
   "source": [
    "The composite numbers below 20 and their factors:  \n",
    "\n",
    "4 - 2, 2      \n",
    "6 - 2, 3       \n",
    "8 - 2, 2, 2    \n",
    "9 - 3, 3       \n",
    "10 - 2, 5      \n",
    "12 - 2, 2, 3   \n",
    "14 - 2, 2, 7   \n",
    "15 - 3, 5      \n",
    "16 - 2, 2, 2, 2  \n",
    "18 - 2, 3, 3   \n",
    "20 - 2, 2, 5   "
   ],
   "cell_type": "markdown",
   "metadata": {}
  },
  {
   "source": [
    "From this list we can see that we will need to include 2</sup>4</sup> and 3</sup>2</sup> along with the other primes above to account for each divisor."
   ],
   "cell_type": "markdown",
   "metadata": {}
  },
  {
   "cell_type": "code",
   "execution_count": 2,
   "metadata": {},
   "outputs": [
    {
     "output_type": "execute_result",
     "data": {
      "text/plain": [
       "232792560"
      ]
     },
     "metadata": {},
     "execution_count": 2
    }
   ],
   "source": [
    "(2**4)*(3**2)*5*7*11*13*17*19"
   ]
  }
 ]
}