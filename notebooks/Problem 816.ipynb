{
 "cells": [
  {
   "cell_type": "code",
   "execution_count": 1,
   "metadata": {},
   "outputs": [],
   "source": [
    "s_0, k, max_k, point_list = 290797, 0, 2000000, []\n",
    "while k < max_k:\n",
    "    s_1 = (s_0 ** 2) % 50515093\n",
    "    point_list.append((s_0, s_1))\n",
    "    k += 1\n",
    "    s_0 = (s_1 ** 2) % 50515093\n",
    "point_list.sort()"
   ]
  },
  {
   "cell_type": "code",
   "execution_count": 2,
   "metadata": {},
   "outputs": [
    {
     "name": "stdout",
     "output_type": "stream",
     "text": [
      "20.8806130178211\n"
     ]
    }
   ],
   "source": [
    "min_distance_sq = 298724554249\n",
    "index = len(point_list)\n",
    "while index > 1:\n",
    "    p_1 = point_list.pop(0)\n",
    "    index -= 1\n",
    "    for p_2 in point_list:\n",
    "        x_term = (p_1[0] - p_2[0]) ** 2\n",
    "        if x_term < min_distance_sq:\n",
    "            y_term = (p_1[1] - p_2[1]) ** 2\n",
    "            distance_sq = x_term + y_term\n",
    "            if distance_sq < min_distance_sq:\n",
    "                min_distance_sq = distance_sq\n",
    "        else:\n",
    "            break\n",
    "print(min_distance_sq ** 0.5)\n",
    "    "
   ]
  }
 ],
 "metadata": {
  "kernelspec": {
   "display_name": "Python 3",
   "language": "python",
   "name": "python3"
  },
  "language_info": {
   "codemirror_mode": {
    "name": "ipython",
    "version": 3
   },
   "file_extension": ".py",
   "mimetype": "text/x-python",
   "name": "python",
   "nbconvert_exporter": "python",
   "pygments_lexer": "ipython3",
   "version": "3.9.0"
  },
  "orig_nbformat": 4
 },
 "nbformat": 4,
 "nbformat_minor": 2
}
