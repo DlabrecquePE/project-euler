{
 "cells": [
  {
   "cell_type": "code",
   "execution_count": 1,
   "metadata": {},
   "outputs": [],
   "source": [
    "def tri_num(n):\n",
    "    return (n * (n + 1) // 2)\n",
    "\n",
    "\n",
    "def squ_num(n):\n",
    "    return n ** 2\n",
    "\n",
    "\n",
    "def pen_num(n):\n",
    "    return (n * (3 * n - 1) // 2)\n",
    "\n",
    "\n",
    "def hex_num(n):\n",
    "    return n * (2 * n - 1)\n",
    "\n",
    "\n",
    "def hep_num(n):\n",
    "    return (n * (5 * n - 3)) // 2\n",
    "\n",
    "\n",
    "def oct_num(n):\n",
    "    return n * (3 * n - 2)"
   ]
  },
  {
   "cell_type": "code",
   "execution_count": 2,
   "metadata": {},
   "outputs": [],
   "source": [
    "# build lists of polygonal numbers\n",
    "func_set = {tri_num, squ_num, pen_num, hex_num, hep_num, oct_num}\n",
    "poly_numbers = {x.__name__: [] for x in func_set}\n",
    "for func in func_set:\n",
    "    n = 0\n",
    "    val = func(n)\n",
    "    while val < 10000:\n",
    "        if val > 999:\n",
    "            poly_numbers[func.__name__] = poly_numbers[func.__name__] + [val]\n",
    "        n += 1\n",
    "        val = func(n)"
   ]
  },
  {
   "cell_type": "code",
   "execution_count": 3,
   "metadata": {},
   "outputs": [],
   "source": [
    "# cull numbers that would require three and two digit number elements\n",
    "for func in poly_numbers:\n",
    "    for number in poly_numbers.copy()[func]:\n",
    "        if str(number)[2] == '0':\n",
    "            poly_numbers[func].remove(number)"
   ]
  },
  {
   "cell_type": "code",
   "execution_count": 4,
   "metadata": {},
   "outputs": [],
   "source": [
    "# this culls numbers where the first two or last two digits have no applicable matches\n",
    "for _ in range(3):\n",
    "    suf_dict = {}\n",
    "    for func in poly_numbers:\n",
    "        suf_set = set()\n",
    "        for number in poly_numbers[func]:\n",
    "            suf_set.add(str(number)[2:])\n",
    "        suf_dict[func] = suf_set\n",
    "        \n",
    "    for func in suf_dict:\n",
    "        ex_dict, suffixes = suf_dict.copy(), set()\n",
    "        del ex_dict[func]\n",
    "        for other in ex_dict:\n",
    "            suffixes.update(ex_dict[other])\n",
    "        for elem in poly_numbers[func]:\n",
    "            if not str(elem)[:2] in suffixes:\n",
    "                poly_numbers[func].remove(elem)\n",
    "        \n",
    "    pre_dict = {}\n",
    "    for func in poly_numbers:\n",
    "        pre_set = set()\n",
    "        for number in poly_numbers[func]:\n",
    "            pre_set.add(str(number)[:2])\n",
    "        pre_dict[func] = pre_set\n",
    "        \n",
    "    for func in pre_dict:\n",
    "        ex_dict, prefixes = pre_dict.copy(), set()\n",
    "        del ex_dict[func]\n",
    "        for other in ex_dict:\n",
    "            prefixes.update(ex_dict[other])\n",
    "        for elem in poly_numbers[func]:\n",
    "            if not str(elem)[:2] in prefixes:\n",
    "                poly_numbers[func].remove(elem)"
   ]
  },
  {
   "cell_type": "code",
   "execution_count": 5,
   "metadata": {},
   "outputs": [
    {
     "name": "stdout",
     "output_type": "stream",
     "text": [
      "34\n",
      "59\n",
      "28\n",
      "38\n",
      "23\n",
      "34\n"
     ]
    }
   ],
   "source": [
    "for func in poly_numbers:\n",
    "    print(len(poly_numbers[func]))"
   ]
  },
  {
   "cell_type": "code",
   "execution_count": 6,
   "metadata": {},
   "outputs": [
    {
     "name": "stdout",
     "output_type": "stream",
     "text": [
      "{1035: 'tri_num', 1128: 'tri_num', 1225: 'squ_num', 1431: 'tri_num', 1540: 'tri_num', 1653: 'tri_num', 1770: 'tri_num', 2016: 'tri_num', 2145: 'tri_num', 2278: 'tri_num', 2415: 'tri_num', 2556: 'tri_num', 2850: 'tri_num', 3160: 'tri_num', 3321: 'tri_num', 3655: 'tri_num', 4186: 'tri_num', 4371: 'tri_num', 4560: 'tri_num', 4753: 'tri_num', 4950: 'tri_num', 5151: 'tri_num', 5356: 'tri_num', 5565: 'tri_num', 5995: 'tri_num', 6216: 'tri_num', 6441: 'tri_num', 7140: 'tri_num', 7381: 'tri_num', 7626: 'tri_num', 7875: 'tri_num', 8128: 'tri_num', 8646: 'tri_num', 8911: 'tri_num', 1081: 'tri_num', 1176: 'tri_num', 1275: 'tri_num', 1485: 'tri_num', 1596: 'tri_num', 1711: 'tri_num', 2080: 'tri_num', 2211: 'tri_num', 2485: 'tri_num', 2628: 'tri_num', 3081: 'tri_num', 3570: 'tri_num', 3741: 'tri_num', 3916: 'tri_num', 4095: 'tri_num', 4465: 'tri_num', 4656: 'tri_num', 5050: 'tri_num', 5671: 'tri_num', 6555: 'tri_num', 6786: 'tri_num', 7021: 'tri_num', 7750: 'tri_num', 8256: 'tri_num', 9591: 'tri_num', 1071: 'hep_num', 1177: 'hep_num', 1288: 'hep_num', 1525: 'hep_num', 1651: 'hep_num', 1782: 'hep_num', 2059: 'hep_num', 2512: 'hep_num', 2673: 'hep_num', 2839: 'hep_num', 3010: 'hep_num', 3186: 'hep_num', 3367: 'hep_num', 3553: 'hep_num', 4141: 'hep_num', 4558: 'hep_num', 4774: 'hep_num', 4995: 'hep_num', 5688: 'hep_num', 6175: 'hep_num', 6426: 'hep_num', 6943: 'hep_num', 7756: 'hep_num', 8037: 'hep_num', 8614: 'hep_num', 8910: 'hep_num', 9211: 'hep_num', 9517: 'hep_num', 1024: 'squ_num', 1089: 'squ_num', 1156: 'squ_num', 1296: 'squ_num', 1444: 'squ_num', 1521: 'squ_num', 1681: 'squ_num', 1764: 'squ_num', 2025: 'squ_num', 2116: 'squ_num', 2500: 'squ_num', 3025: 'squ_num', 3136: 'squ_num', 3364: 'squ_num', 3721: 'squ_num', 3969: 'squ_num', 4096: 'squ_num', 4356: 'squ_num', 4624: 'squ_num', 4761: 'squ_num', 5041: 'squ_num', 5184: 'squ_num', 5329: 'squ_num', 5625: 'squ_num', 5929: 'squ_num', 6241: 'squ_num', 6561: 'squ_num', 6724: 'squ_num', 7056: 'squ_num', 7396: 'squ_num', 7569: 'squ_num', 7744: 'squ_num', 8281: 'squ_num', 8649: 'squ_num', 8836: 'squ_num', 9216: 'squ_num', 9604: 'squ_num', 1045: 'oct_num', 1160: 'oct_num', 1281: 'oct_num', 1541: 'oct_num', 1680: 'oct_num', 2133: 'oct_num', 2296: 'oct_num', 2465: 'oct_num', 2640: 'oct_num', 2821: 'oct_num', 3605: 'oct_num', 4033: 'oct_num', 4485: 'oct_num', 4720: 'oct_num', 4961: 'oct_num', 5985: 'oct_num', 6256: 'oct_num', 6533: 'oct_num', 8008: 'oct_num', 8640: 'oct_num', 8965: 'oct_num', 9296: 'oct_num', 9633: 'oct_num', 1080: 'pen_num', 1162: 'pen_num', 1247: 'pen_num', 1426: 'pen_num', 1520: 'pen_num', 1617: 'pen_num', 1717: 'pen_num', 2035: 'pen_num', 2147: 'pen_num', 2625: 'pen_num', 2882: 'pen_num', 3151: 'pen_num', 3577: 'pen_num', 3725: 'pen_num', 4030: 'pen_num', 4187: 'pen_num', 4347: 'pen_num', 4510: 'pen_num', 4676: 'pen_num', 5017: 'pen_num', 5192: 'pen_num', 5370: 'pen_num', 5551: 'pen_num', 5922: 'pen_num', 6112: 'pen_num', 6501: 'pen_num', 6902: 'pen_num', 7315: 'pen_num', 7526: 'pen_num', 7740: 'pen_num', 8177: 'pen_num', 8626: 'pen_num', 8855: 'pen_num', 9560: 'pen_num'}\n"
     ]
    }
   ],
   "source": [
    "poly_swap = {}\n",
    "for func in poly_numbers:\n",
    "    for number in poly_numbers[func]:\n",
    "        poly_swap[number] = func\n",
    "print(poly_swap)"
   ]
  }
 ],
 "metadata": {
  "kernelspec": {
   "display_name": "Python 3",
   "language": "python",
   "name": "python3"
  },
  "language_info": {
   "codemirror_mode": {
    "name": "ipython",
    "version": 3
   },
   "file_extension": ".py",
   "mimetype": "text/x-python",
   "name": "python",
   "nbconvert_exporter": "python",
   "pygments_lexer": "ipython3",
   "version": "3.9.0"
  },
  "orig_nbformat": 4
 },
 "nbformat": 4,
 "nbformat_minor": 2
}
