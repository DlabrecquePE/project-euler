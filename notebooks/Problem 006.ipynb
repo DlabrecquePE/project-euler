{
 "metadata": {
  "language_info": {
   "codemirror_mode": {
    "name": "ipython",
    "version": 3
   },
   "file_extension": ".py",
   "mimetype": "text/x-python",
   "name": "python",
   "nbconvert_exporter": "python",
   "pygments_lexer": "ipython3",
   "version": "3.9.0-final"
  },
  "orig_nbformat": 2,
  "kernelspec": {
   "name": "python3",
   "display_name": "Python 3",
   "language": "python"
  }
 },
 "nbformat": 4,
 "nbformat_minor": 2,
 "cells": [
  {
   "source": [
    "# Sum square difference\n",
    "## Problem 6\n",
    "---\n",
    "<p>The sum of the squares of the first ten natural numbers is,</p>  \n",
    "$$1^2 + 2^2 + ... + 10^2 = 385$$\n",
    "<p>The square of the sum of the first ten natural numbers is,</p>  \n",
    "$$(1 + 2 + ... + 10)^2 = 55^2 = 3025$$\n",
    "<p>Hence the difference between the sum of the squares of the first ten natural numbers and the square of the sum is $3025 - 385 = 2640$.</p>\n",
    "<p>Find the difference between the sum of the squares of the first one hundred natural numbers and the square of the sum.</p>\n",
    "\n",
    "---"
   ],
   "cell_type": "markdown",
   "metadata": {}
  },
  {
   "cell_type": "code",
   "execution_count": 5,
   "metadata": {},
   "outputs": [
    {
     "output_type": "stream",
     "name": "stdout",
     "text": [
      "25164150\n"
     ]
    }
   ],
   "source": [
    "nat_100 = [x for x in range(1, 101)]\n",
    "sqr_100 = [x ** 2 for x in nat_100]\n",
    "print(sum(nat_100) ** 2 - sum(sqr_100))"
   ]
  }
 ]
}