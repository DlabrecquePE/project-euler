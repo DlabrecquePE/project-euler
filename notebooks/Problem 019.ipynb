{
 "cells": [
  {
   "cell_type": "markdown",
   "metadata": {},
   "source": [
    "# Counting Sundays\r\n",
    "## Problem 19\r\n",
    "\r\n",
    "---\r\n",
    "\r\n",
    "<p>You are given the following information, but you may prefer to do some research for yourself.</p>\r\n",
    "<ul><li>1 Jan 1900 was a Monday.</li>\r\n",
    "<li>Thirty days has September,<br />\r\n",
    "April, June and November.<br />\r\n",
    "All the rest have thirty-one,<br />\r\n",
    "Saving February alone,<br />\r\n",
    "Which has twenty-eight, rain or shine.<br />\r\n",
    "And on leap years, twenty-nine.</li>\r\n",
    "<li>A leap year occurs on any year evenly divisible by 4, but not on a century unless it is divisible by 400.</li>\r\n",
    "</ul><p>How many Sundays fell on the first of the month during the twentieth century (1 Jan 1901 to 31 Dec 2000)?</p>\r\n",
    "\r\n",
    "---\r\n"
   ]
  },
  {
   "cell_type": "code",
   "execution_count": 5,
   "metadata": {},
   "outputs": [],
   "source": [
    "def gen_firstofmonth(num=0):\r\n",
    "    count = num\r\n",
    "    while True:\r\n",
    "        yield 31\r\n",
    "        yield 29 if not count % 4 else 28\r\n",
    "        for x in [31,30,31,30,31,31,30,31,30,31]:\r\n",
    "            yield x\r\n",
    "        count += 1"
   ]
  },
  {
   "cell_type": "code",
   "execution_count": 12,
   "metadata": {},
   "outputs": [
    {
     "name": "stdout",
     "output_type": "stream",
     "text": [
      "171\n"
     ]
    }
   ],
   "source": [
    "count, total = 0, 0\r\n",
    "monther = gen_firstofmonth(1)\r\n",
    "for _ in range(1200):\r\n",
    "    total += next(monther)\r\n",
    "    if total % 7 == 4:\r\n",
    "        count += 1\r\n",
    "print(count)\r\n"
   ]
  }
 ],
 "metadata": {
  "kernelspec": {
   "display_name": "Python 3",
   "name": "python3"
  },
  "language_info": {
   "codemirror_mode": {
    "name": "ipython",
    "version": 3
   },
   "file_extension": ".py",
   "mimetype": "text/x-python",
   "name": "python",
   "nbconvert_exporter": "python",
   "pygments_lexer": "ipython3",
   "version": "3.9.0"
  },
  "orig_nbformat": 2
 },
 "nbformat": 4,
 "nbformat_minor": 2
}