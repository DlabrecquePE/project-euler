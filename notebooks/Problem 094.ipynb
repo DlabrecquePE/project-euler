{
 "cells": [
  {
   "cell_type": "code",
   "execution_count": 1,
   "metadata": {},
   "outputs": [],
   "source": [
    "def square_gen():\n",
    "    N = 1\n",
    "    while True:\n",
    "        yield N ** 2\n",
    "        N += 1"
   ]
  },
  {
   "cell_type": "code",
   "execution_count": 2,
   "metadata": {},
   "outputs": [],
   "source": [
    "# max_perimeter, squares = 10 ** 7, square_gen()\n",
    "# square, max_range = next(squares), max_perimeter // 3\n",
    "# solutions = []\n",
    "# for b in range(1, max_range):\n",
    "#     b_sq = b ** 2\n",
    "#     area_test = b_sq * (3 * b_sq - 8 * b + 4)\n",
    "#     if area_test == square:\n",
    "#         solutions.append(3 * b - 2)\n",
    "#         print(b, b - 1, b - 1)"
   ]
  },
  {
   "cell_type": "code",
   "execution_count": 3,
   "metadata": {},
   "outputs": [],
   "source": [
    "from math import sqrt\n",
    "\n",
    "max_perimeter = 10 ** 8\n",
    "squares, almost_list = square_gen(), []\n",
    "while True:\n",
    "    square = next(squares)\n",
    "    det = sqrt(4 + 3 * square)\n",
    "    b = (4 + det) / 3\n",
    "    if not b % 1:\n",
    "        almost_list.append((b - 1, b - 1, b))\n",
    "    b = (-4 + det) / 3\n",
    "    if not b % 1:\n",
    "        almost_list.append((b + 1, b + 1, b))\n",
    "    if 3 * b > max_perimeter:\n",
    "        break"
   ]
  },
  {
   "cell_type": "code",
   "execution_count": 4,
   "metadata": {},
   "outputs": [],
   "source": [
    "# from decimal import *\n",
    "# from math import sqrt\n",
    "# getcontext().prec = 40\n",
    "# test, work = [], almost_list.copy()\n",
    "# for tup in work[1:]:\n",
    "#     s = Decimal(sum(tup) / 2)\n",
    "#     heron = Decimal(sqrt(s*(s-Decimal(tup[0]))*(s-Decimal(tup[1]))*(s-Decimal(tup[2]))))\n",
    "#     if str(heron)[-2:] == '.5':\n",
    "#         work.remove(tup)\n",
    "# print(sum(sum(tup) for tup in work[1:0]))"
   ]
  },
  {
   "cell_type": "code",
   "execution_count": 20,
   "metadata": {},
   "outputs": [],
   "source": [
    "from math import sqrt\n",
    "\n",
    "square_set = {i ** 2 for i in range(1, 200000000)}"
   ]
  },
  {
   "cell_type": "code",
   "execution_count": 21,
   "metadata": {},
   "outputs": [
    {
     "name": "stdout",
     "output_type": "stream",
     "text": [
      "39999999600000001\n"
     ]
    },
    {
     "data": {
      "text/plain": [
       "27777777555555556"
      ]
     },
     "execution_count": 21,
     "metadata": {},
     "output_type": "execute_result"
    }
   ],
   "source": [
    "print(max(square_set))\n",
    "(333333333 // 2) ** 2"
   ]
  },
  {
   "cell_type": "code",
   "execution_count": 22,
   "metadata": {},
   "outputs": [],
   "source": [
    "solutions, max_range = [], 333333334\n",
    "for b in range(2, max_range, 2):\n",
    "    a1, a2, half_b = b + 1, b - 1, b // 2\n",
    "    height1, height2 = a1 ** 2 - half_b ** 2, a2 ** 2 - half_b ** 2\n",
    "    if height1 in square_set:\n",
    "        solutions.append((b, a1, a1)) \n",
    "    if height2 in square_set:\n",
    "        solutions.append((b, a2, a2))\n",
    "# for b in range(1, max_range, 2):\n",
    "#     a1, a2 = b + 1, b - 1\n",
    "#     height1, height2 = ((2 * a1) ** 2) - (b ** 2), ((2 * a2) ** 2) - (b ** 2)\n",
    "#     if height1 in square_set:\n",
    "#         solutions.append((b, a1, a1)) \n",
    "#     if height2 in square_set:\n",
    "#         solutions.append((b, a2, a2))"
   ]
  },
  {
   "cell_type": "code",
   "execution_count": 23,
   "metadata": {},
   "outputs": [
    {
     "name": "stdout",
     "output_type": "stream",
     "text": [
      "(6, 5, 5)  with perimeter:  16  with height:  4.0  and area:  12.0\n",
      "(16, 17, 17)  with perimeter:  50  with height:  15.0  and area:  120.0\n",
      "(66, 65, 65)  with perimeter:  196  with height:  56.0  and area:  1848.0\n",
      "(240, 241, 241)  with perimeter:  722  with height:  209.0  and area:  25080.0\n",
      "(902, 901, 901)  with perimeter:  2704  with height:  780.0  and area:  351780.0\n",
      "(3360, 3361, 3361)  with perimeter:  10082  with height:  2911.0  and area:  4890480.0\n",
      "(12546, 12545, 12545)  with perimeter:  37636  with height:  10864.0  and area:  68149872.0\n",
      "(46816, 46817, 46817)  with perimeter:  140450  with height:  40545.0  and area:  949077360.0\n",
      "(174726, 174725, 174725)  with perimeter:  524176  with height:  151316.0  and area:  13219419708.0\n",
      "(652080, 652081, 652081)  with perimeter:  1956242  with height:  564719.0  and area:  184120982760.0\n",
      "(2433602, 2433601, 2433601)  with perimeter:  7300804  with height:  2107560.0  and area:  2564481115560.0\n",
      "(9082320, 9082321, 9082321)  with perimeter:  27246962  with height:  7865521.0  and area:  35718589344360.0\n",
      "(33895686, 33895685, 33895685)  with perimeter:  101687056  with height:  29354524.0  and area:  497495864091732.0\n",
      "(126500416, 126500417, 126500417)  with perimeter:  379501250  with height:  109552575.0  and area:  6929223155685600.0\n"
     ]
    }
   ],
   "source": [
    "for tup in solutions:\n",
    "    height = sqrt(tup[1] ** 2 - (tup[0] / 2) ** 2)\n",
    "    print(tup, \" with perimeter: \", sum(tup), \" with height: \", height , \" and area: \", height * tup[0] / 2)"
   ]
  },
  {
   "cell_type": "code",
   "execution_count": 24,
   "metadata": {},
   "outputs": [
    {
     "name": "stdout",
     "output_type": "stream",
     "text": [
      "518408346\n"
     ]
    }
   ],
   "source": [
    "print(sum(sum(tup) for tup in solutions))"
   ]
  },
  {
   "cell_type": "code",
   "execution_count": 8,
   "metadata": {},
   "outputs": [
    {
     "name": "stdout",
     "output_type": "stream",
     "text": [
      "(1.0, 1.0, 0.0)  with perimeter:  2.0  with height:  1.0  and area:  0.0\n",
      "(5.0, 5.0, 6.0)  with perimeter:  16.0  with height:  4.0  and area:  12.0\n",
      "(17.0, 17.0, 16.0)  with perimeter:  50.0  with height:  15.0  and area:  120.0\n",
      "(65.0, 65.0, 66.0)  with perimeter:  196.0  with height:  56.0  and area:  1848.0\n",
      "(241.0, 241.0, 240.0)  with perimeter:  722.0  with height:  209.0  and area:  25080.0\n",
      "(901.0, 901.0, 902.0)  with perimeter:  2704.0  with height:  780.0  and area:  351780.0\n",
      "(3361.0, 3361.0, 3360.0)  with perimeter:  10082.0  with height:  2911.0  and area:  4890480.0\n",
      "(12545.0, 12545.0, 12546.0)  with perimeter:  37636.0  with height:  10864.0  and area:  68149872.0\n",
      "(46817.0, 46817.0, 46816.0)  with perimeter:  140450.0  with height:  40545.0  and area:  949077360.0\n",
      "(174725.0, 174725.0, 174726.0)  with perimeter:  524176.0  with height:  151316.0  and area:  13219419708.0\n",
      "(652081.0, 652081.0, 652080.0)  with perimeter:  1956242.0  with height:  564719.0  and area:  184120982760.0\n",
      "(2433601.0, 2433601.0, 2433602.0)  with perimeter:  7300804.0  with height:  2107560.0  and area:  2564481115560.0\n",
      "(9082321.0, 9082321.0, 9082320.0)  with perimeter:  27246962.0  with height:  7865521.0  and area:  35718589344360.0\n"
     ]
    }
   ],
   "source": [
    "for tup in almost_list:\n",
    "    height = sqrt(tup[0] ** 2 - (tup[2] / 2) ** 2)\n",
    "    print(tup, \" with perimeter: \", sum(tup), \" with height: \", height , \" and area: \", height * tup[2] / 2)\n"
   ]
  },
  {
   "cell_type": "code",
   "execution_count": null,
   "metadata": {},
   "outputs": [],
   "source": []
  }
 ],
 "metadata": {
  "kernelspec": {
   "display_name": "Python 3",
   "language": "python",
   "name": "python3"
  },
  "language_info": {
   "codemirror_mode": {
    "name": "ipython",
    "version": 3
   },
   "file_extension": ".py",
   "mimetype": "text/x-python",
   "name": "python",
   "nbconvert_exporter": "python",
   "pygments_lexer": "ipython3",
   "version": "3.9.0"
  },
  "orig_nbformat": 4
 },
 "nbformat": 4,
 "nbformat_minor": 2
}
