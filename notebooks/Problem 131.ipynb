{
 "cells": [
  {
   "cell_type": "code",
   "execution_count": 8,
   "metadata": {
    "collapsed": true
   },
   "outputs": [],
   "source": [
    "def cube_gen():\n",
    "    count = 1\n",
    "    while True:\n",
    "        yield count ** 3\n",
    "        count += 1"
   ]
  },
  {
   "cell_type": "code",
   "execution_count": 12,
   "metadata": {
    "collapsed": true
   },
   "outputs": [
    {
     "name": "stdout",
     "output_type": "stream",
     "text": [
      "prime found at:  7.0\nprime found at:  19.0\nprime found at:  37.0\nprime found at:  61.0\nprime found at:  127.0\n"
     ]
    },
    {
     "name": "stdout",
     "output_type": "stream",
     "text": [
      "prime found at:  271.0\n"
     ]
    },
    {
     "name": "stdout",
     "output_type": "stream",
     "text": [
      "prime found at:  331.0\n"
     ]
    },
    {
     "name": "stdout",
     "output_type": "stream",
     "text": [
      "prime found at:  397.0\n"
     ]
    },
    {
     "name": "stdout",
     "output_type": "stream",
     "text": [
      "prime found at:  547.0\n"
     ]
    },
    {
     "name": "stdout",
     "output_type": "stream",
     "text": [
      "prime found at:  631.0\n"
     ]
    },
    {
     "name": "stdout",
     "output_type": "stream",
     "text": [
      "prime found at:  919.0\n"
     ]
    },
    {
     "name": "stdout",
     "output_type": "stream",
     "text": [
      "prime found at:  1657.0\n"
     ]
    },
    {
     "name": "stdout",
     "output_type": "stream",
     "text": [
      "prime found at:  1801.0\n"
     ]
    },
    {
     "name": "stdout",
     "output_type": "stream",
     "text": [
      "prime found at:  1951.0\n"
     ]
    }
   ],
   "source": [
    "from RabinMiller import *\n",
    "\n",
    "cube, res = cube_gen(), {}\n",
    "prev_cubes = [next(cube)]\n",
    "while True:\n",
    "    test_value = next(cube)\n",
    "    for i, prev in enumerate(prev_cubes):\n",
    "        remainder = test_value - prev\n",
    "        remainder = remainder / ((i + 1) ** 2)\n",
    "        if remainder.is_integer() and isPrime(int(remainder)):\n",
    "            res[int(remainder)] = i + 1\n",
    "            print('prime found at: ', remainder)\n",
    "    prev_cubes.append(test_value)"
   ]
  },
  {
   "cell_type": "code",
   "execution_count": null,
   "metadata": {},
   "outputs": [],
   "source": [
    ""
   ]
  }
 ],
 "metadata": {
  "kernelspec": {
   "display_name": "Python 2",
   "language": "python",
   "name": "python2"
  },
  "language_info": {
   "codemirror_mode": {
    "name": "ipython",
    "version": 2.0
   },
   "file_extension": ".py",
   "mimetype": "text/x-python",
   "name": "python",
   "nbconvert_exporter": "python",
   "pygments_lexer": "ipython2",
   "version": "2.7.6"
  }
 },
 "nbformat": 4,
 "nbformat_minor": 0
}