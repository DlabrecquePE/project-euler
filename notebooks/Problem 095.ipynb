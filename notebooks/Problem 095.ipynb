{
 "cells": [
  {
   "cell_type": "code",
   "execution_count": 1,
   "metadata": {},
   "outputs": [],
   "source": [
    "def gen_primes():\n",
    "    \"\"\" Generate an infinite sequence of prime numbers \"\"\"\n",
    "    d, q = {}, 2\n",
    "    while True:\n",
    "        if q not in d:\n",
    "            yield q\n",
    "            d[q * q] = [q]\n",
    "        else:\n",
    "            for p in d[q]:\n",
    "                d.setdefault(p + q, []).append(p)\n",
    "            del d[q]\n",
    "        q += 1\n",
    "\n",
    "\n",
    "from functools import lru_cache\n",
    "@lru_cache(maxsize=999999)\n",
    "def pfactor(num):\n",
    "    \"\"\" Returns a dict of prime factors of num          \"\"\"\n",
    "    \"\"\" dict keys are the prime factors                 \"\"\"\n",
    "    \"\"\" values contain the number of factors (exponent) \"\"\"\n",
    "\n",
    "    prime_factors, primes = {}, gen_primes()\n",
    "    for prime in primes:\n",
    "        while not num % prime:\n",
    "            prime_factors[prime] = prime_factors.get(prime, 0) + 1\n",
    "            num = num // prime\n",
    "        if num == 1:\n",
    "            return prime_factors\n",
    "        if prime > num ** 0.5:\n",
    "            prime_factors[num] = 1\n",
    "            return prime_factors\n",
    "\n",
    "\n",
    "def divisors(num):\n",
    "    \"\"\" takes a dict of prime factors from pfactor()    \"\"\"\n",
    "    \"\"\" returns list of divisors                        \"\"\"\n",
    "\n",
    "    if num in [0,1]:\n",
    "        return [1]\n",
    "\n",
    "    num_dict = pfactor(num)\n",
    "\n",
    "    def inner_divisors(num_dict, num_list={1}):\n",
    "        if not num_dict:\n",
    "            return num_list\n",
    "\n",
    "        prime = min(num_dict.keys())\n",
    "        exp = num_dict[prime]\n",
    "        del num_dict[prime]\n",
    "        back_list = inner_divisors(num_dict, num_list)\n",
    "        work_list = [prime ** (i + 1) for i in range(exp)]\n",
    "        for div in work_list:\n",
    "            num_list = num_list.union(x * div for x in back_list)\n",
    "        num_list = num_list.union(work_list).union(back_list)\n",
    "        return num_list\n",
    "    return sorted(list(inner_divisors(num_dict)))"
   ]
  },
  {
   "cell_type": "code",
   "execution_count": 2,
   "metadata": {},
   "outputs": [
    {
     "name": "stdout",
     "output_type": "stream",
     "text": [
      "1000000\n"
     ]
    }
   ],
   "source": [
    "div_sum_dict = {1: 1}\n",
    "for x in range(2, 1000001):\n",
    "    div_sum_dict[x] = sum(divisors(x)[:-1])\n",
    "print(len(div_sum_dict))"
   ]
  },
  {
   "cell_type": "code",
   "execution_count": 13,
   "metadata": {},
   "outputs": [],
   "source": [
    "chain_dict = {}\n",
    "for elem in div_sum_dict:\n",
    "    chain_list = [elem]\n",
    "    link = div_sum_dict[elem]\n",
    "    while True:\n",
    "        if link in chain_list:\n",
    "            chain_list = chain_list[chain_list.index(link):]\n",
    "            chain_dict[elem] = chain_list\n",
    "            break\n",
    "        if link > 1000000:\n",
    "            chain_list = []\n",
    "            chain_dict[elem] = chain_list\n",
    "            break\n",
    "        chain_list.append(link)\n",
    "        link = div_sum_dict[link]"
   ]
  },
  {
   "cell_type": "code",
   "execution_count": 15,
   "metadata": {},
   "outputs": [
    {
     "name": "stdout",
     "output_type": "stream",
     "text": [
      "28\n"
     ]
    }
   ],
   "source": [
    "max_chain_len = max(len(chain) for chain in chain_dict.values())\n",
    "print(max_chain_len)\n",
    "chains = {elem: chain_dict[elem] for elem in chain_dict if len(chain_dict[elem]) == max_chain_len}"
   ]
  },
  {
   "cell_type": "code",
   "execution_count": 26,
   "metadata": {},
   "outputs": [],
   "source": [
    "chain_set = set(min(chain) for chain in chains.values()) "
   ]
  },
  {
   "cell_type": "code",
   "execution_count": 27,
   "metadata": {},
   "outputs": [
    {
     "name": "stdout",
     "output_type": "stream",
     "text": [
      "{14316}\n"
     ]
    }
   ],
   "source": [
    "print(chain_set)"
   ]
  },
  {
   "cell_type": "code",
   "execution_count": null,
   "metadata": {},
   "outputs": [],
   "source": []
  }
 ],
 "metadata": {
  "kernelspec": {
   "display_name": "Python 3",
   "language": "python",
   "name": "python3"
  },
  "language_info": {
   "codemirror_mode": {
    "name": "ipython",
    "version": 3
   },
   "file_extension": ".py",
   "mimetype": "text/x-python",
   "name": "python",
   "nbconvert_exporter": "python",
   "pygments_lexer": "ipython3",
   "version": "3.9.0"
  },
  "orig_nbformat": 4
 },
 "nbformat": 4,
 "nbformat_minor": 2
}
