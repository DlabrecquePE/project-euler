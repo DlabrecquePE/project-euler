{
 "cells": [
  {
   "cell_type": "code",
   "execution_count": 1,
   "metadata": {},
   "outputs": [],
   "source": [
    "fib_list = [1, 1]\n",
    "while len(fib_list) < 240:\n",
    "    fib_list.append(fib_list[-2] + fib_list[-1])"
   ]
  },
  {
   "cell_type": "code",
   "execution_count": 2,
   "metadata": {},
   "outputs": [
    {
     "name": "stdout",
     "output_type": "stream",
     "text": [
      "4920\n",
      "40920\n",
      "249579\n",
      "1331088\n",
      "6877288\n",
      "38450292\n",
      "272873040\n"
     ]
    }
   ],
   "source": [
    "n_list = []\n",
    "for n in range(1, 1000000000):\n",
    "    mod_list = [fib % n for fib in fib_list]\n",
    "    if (mod_list[:120] == mod_list[120:] and\n",
    "        all([mod_list[:60] != mod_list[60:120],\n",
    "        mod_list[:40] != mod_list[40:80],\n",
    "        mod_list[:30] != mod_list[30:60],\n",
    "        mod_list[:24] != mod_list[24:48],\n",
    "        mod_list[:20] != mod_list[20:40],\n",
    "        mod_list[:15] != mod_list[15:30],\n",
    "        mod_list[:12] != mod_list[12:24]])):\n",
    "        n_list.append(n)\n",
    "        if not len(n_list) % 100:\n",
    "            print(n)"
   ]
  },
  {
   "cell_type": "code",
   "execution_count": 3,
   "metadata": {},
   "outputs": [
    {
     "name": "stdout",
     "output_type": "stream",
     "text": [
      "44511058204\n"
     ]
    }
   ],
   "source": [
    "print(sum(n_list))"
   ]
  }
 ],
 "metadata": {
  "kernelspec": {
   "display_name": "Python 3",
   "language": "python",
   "name": "python3"
  },
  "language_info": {
   "codemirror_mode": {
    "name": "ipython",
    "version": 3
   },
   "file_extension": ".py",
   "mimetype": "text/x-python",
   "name": "python",
   "nbconvert_exporter": "python",
   "pygments_lexer": "ipython3",
   "version": "3.11.4"
  }
 },
 "nbformat": 4,
 "nbformat_minor": 2
}
