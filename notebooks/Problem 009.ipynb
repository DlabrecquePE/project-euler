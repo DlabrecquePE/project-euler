{
 "metadata": {
  "language_info": {
   "codemirror_mode": {
    "name": "ipython",
    "version": 3
   },
   "file_extension": ".py",
   "mimetype": "text/x-python",
   "name": "python",
   "nbconvert_exporter": "python",
   "pygments_lexer": "ipython3",
   "version": "3.9.0-final"
  },
  "orig_nbformat": 2,
  "kernelspec": {
   "name": "python3",
   "display_name": "Python 3",
   "language": "python"
  }
 },
 "nbformat": 4,
 "nbformat_minor": 2,
 "cells": [
  {
   "source": [
    "# Special Pythagorean triplet\n",
    "## Problem 9\n",
    "---\n",
    "<p>A Pythagorean triplet is a set of three natural numbers, <var>a</var> &lt; <var>b</var> &lt; <var>c</var>, for which,</p>\n",
    "<div class=\"center\"> <var>a</var><sup>2</sup> + <var>b</var><sup>2</sup> = <var>c</var><sup>2</sup></div>\n",
    "<p>For example, 3<sup>2</sup> + 4<sup>2</sup> = 9 + 16 = 25 = 5<sup>2</sup>.</p>\n",
    "<p>There exists exactly one Pythagorean triplet for which <var>a</var> + <var>b</var> + <var>c</var> = 1000.<br />Find the product <var>abc</var>.</p>\n",
    "\n",
    "---"
   ],
   "cell_type": "markdown",
   "metadata": {}
  },
  {
   "cell_type": "code",
   "execution_count": 6,
   "metadata": {},
   "outputs": [
    {
     "output_type": "stream",
     "name": "stdout",
     "text": [
      "31875000\n"
     ]
    }
   ],
   "source": [
    "m = 2\n",
    "n = 1\n",
    "while True:\n",
    "    a = m ** 2 - n ** 2\n",
    "    b = 2 * n * m\n",
    "    c = m ** 2 + n ** 2\n",
    "    py_sum = a + b + c\n",
    "    k = 1\n",
    "    while py_sum < 1000:\n",
    "        k += 1\n",
    "        py_sum = k * a + k * b + k * c\n",
    "    if py_sum == 1000:\n",
    "            print(k ** 3 * (a * b * c))\n",
    "            break\n",
    "    if n == m - 1:\n",
    "        m += 1\n",
    "        n = 1\n",
    "    else:\n",
    "        n += 1"
   ]
  },
  {
   "cell_type": "code",
   "execution_count": null,
   "metadata": {},
   "outputs": [],
   "source": []
  }
 ]
}