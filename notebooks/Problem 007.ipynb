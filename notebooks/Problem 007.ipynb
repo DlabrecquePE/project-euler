{
 "metadata": {
  "language_info": {
   "codemirror_mode": {
    "name": "ipython",
    "version": 3
   },
   "file_extension": ".py",
   "mimetype": "text/x-python",
   "name": "python",
   "nbconvert_exporter": "python",
   "pygments_lexer": "ipython3",
   "version": "3.9.0-final"
  },
  "orig_nbformat": 2,
  "kernelspec": {
   "name": "python3",
   "display_name": "Python 3",
   "language": "python"
  }
 },
 "nbformat": 4,
 "nbformat_minor": 2,
 "cells": [
  {
   "source": [
    "# 10001st prime\n",
    "## Problem 7\n",
    "---\n",
    "<p>By listing the first six prime numbers: 2, 3, 5, 7, 11, and 13, we can see that the 6th prime is 13.</p>\n",
    "<p>What is the 10 001st prime number?</p>  \n",
    "\n",
    "---\n"
   ],
   "cell_type": "markdown",
   "metadata": {}
  },
  {
   "cell_type": "code",
   "execution_count": 3,
   "metadata": {},
   "outputs": [],
   "source": [
    "def gen_primes():\n",
    "    \"\"\" Generate an infinite sequence of prime numbers \"\"\"\n",
    "    d, q = {}, 2\n",
    "    while True:\n",
    "        if q not in d:\n",
    "            yield q\n",
    "            d[q * q] = [q]\n",
    "        else:\n",
    "            for p in d[q]:\n",
    "                d.setdefault(p + q, []).append(p)\n",
    "            del d[q]\n",
    "        q += 1"
   ]
  },
  {
   "cell_type": "code",
   "execution_count": 4,
   "metadata": {},
   "outputs": [
    {
     "output_type": "stream",
     "name": "stdout",
     "text": [
      "104743\n"
     ]
    }
   ],
   "source": [
    "primer = gen_primes()\n",
    "for _ in range(10000):\n",
    "   next(primer)\n",
    "print(next(primer))"
   ]
  }
 ]
}