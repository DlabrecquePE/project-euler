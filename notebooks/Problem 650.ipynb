{
 "cells": [
  {
   "cell_type": "code",
   "execution_count": 1,
   "metadata": {},
   "outputs": [],
   "source": [
    "def bico(num):\n",
    "    \"\"\" Returns list of binomial coefficients in\n",
    "        the terms of the polynomial expansion of\n",
    "        the binomial power (x + 1) ** n\"\"\"\n",
    "    \n",
    "    from math import factorial\n",
    "\n",
    "    return [factorial(num) // (factorial(k) * factorial(num - k)) for k in range(num + 1)]\n",
    "\n",
    "\n",
    "def gen_primes():\n",
    "    \"\"\" Generate an infinite sequence of prime numbers \"\"\"\n",
    "    d, q = {}, 2\n",
    "    while True:\n",
    "        if q not in d:\n",
    "            yield q\n",
    "            d[q * q] = [q]\n",
    "        else:\n",
    "            for p in d[q]:\n",
    "                d.setdefault(p + q, []).append(p)\n",
    "            del d[q]\n",
    "        q += 1\n",
    "\n",
    "\n",
    "from functools import lru_cache\n",
    "@lru_cache(maxsize=999999)\n",
    "def pfactor(num):\n",
    "    \"\"\" Returns a dict of prime factors of num          \"\"\"\n",
    "    \"\"\" dict keys are the prime factors                 \"\"\"\n",
    "    \"\"\" values contain the number of factors (exponent) \"\"\"\n",
    "\n",
    "    prime_factors, primes = {}, gen_primes()\n",
    "    for prime in primes:\n",
    "        while not num % prime:\n",
    "            prime_factors[prime] = prime_factors.get(prime, 0) + 1\n",
    "            num = num // prime\n",
    "        if num == 1:\n",
    "            return prime_factors\n",
    "        if prime > num ** 0.5:\n",
    "            prime_factors[num] = 1\n",
    "            return prime_factors\n",
    "\n",
    "\n",
    "def divisors(num):\n",
    "    \"\"\" takes a dict of prime factors from pfactor()    \"\"\"\n",
    "    \"\"\" returns list of divisors                        \"\"\"\n",
    "\n",
    "    if num in [0,1]:\n",
    "        return [1]\n",
    "\n",
    "    num_dict = pfactor(num)\n",
    "\n",
    "    def inner_divisors(num_dict, num_list={1}):\n",
    "        if not num_dict:\n",
    "            return num_list\n",
    "\n",
    "        prime = min(num_dict.keys())\n",
    "        exp = num_dict[prime]\n",
    "        del num_dict[prime]\n",
    "        back_list = inner_divisors(num_dict, num_list)\n",
    "        work_list = [prime ** (i + 1) for i in range(exp)]\n",
    "        for div in work_list:\n",
    "            num_list = num_list.union(x * div for x in back_list)\n",
    "        num_list = num_list.union(work_list).union(back_list)\n",
    "        return num_list\n",
    "    return sorted(list(inner_divisors(num_dict)))\n"
   ]
  },
  {
   "cell_type": "code",
   "execution_count": 4,
   "metadata": {},
   "outputs": [
    {
     "ename": "IndentationError",
     "evalue": "expected an indented block (<ipython-input-4-7e74ff534860>, line 5)",
     "output_type": "error",
     "traceback": [
      "\u001b[1;36m  File \u001b[1;32m\"<ipython-input-4-7e74ff534860>\"\u001b[1;36m, line \u001b[1;32m5\u001b[0m\n\u001b[1;33m    print(sum_list)\u001b[0m\n\u001b[1;37m                   ^\u001b[0m\n\u001b[1;31mIndentationError\u001b[0m\u001b[1;31m:\u001b[0m expected an indented block\n"
     ]
    }
   ],
   "source": [
    "max_n, sum_list = 5, []\n",
    "for n in range(1, max_n + 1):\n",
    "    coefs = bico(n)\n",
    "    for coef in coefs:\n",
    "        \n",
    "print(sum_list)\n"
   ]
  },
  {
   "cell_type": "code",
   "execution_count": null,
   "metadata": {},
   "outputs": [],
   "source": []
  }
 ],
 "metadata": {
  "kernelspec": {
   "display_name": "Python 3",
   "language": "python",
   "name": "python3"
  },
  "language_info": {
   "codemirror_mode": {
    "name": "ipython",
    "version": 3
   },
   "file_extension": ".py",
   "mimetype": "text/x-python",
   "name": "python",
   "nbconvert_exporter": "python",
   "pygments_lexer": "ipython3",
   "version": "3.9.0"
  },
  "orig_nbformat": 4
 },
 "nbformat": 4,
 "nbformat_minor": 2
}
