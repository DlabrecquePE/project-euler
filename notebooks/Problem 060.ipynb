{
 "cells": [
  {
   "cell_type": "code",
   "execution_count": 1,
   "metadata": {},
   "outputs": [],
   "source": [
    "def gen_primes():\n",
    "    \"\"\" Generate an infinite sequence of prime numbers \"\"\"\n",
    "    d, q = {}, 2\n",
    "    while True:\n",
    "        if q not in d:\n",
    "            yield q\n",
    "            d[q * q] = [q]\n",
    "        else:\n",
    "            for p in d[q]:\n",
    "                d.setdefault(p + q, []).append(p)\n",
    "            del d[q]\n",
    "        q += 1"
   ]
  },
  {
   "cell_type": "code",
   "execution_count": 2,
   "metadata": {},
   "outputs": [],
   "source": [
    "pair_set_max_len = 5\n",
    "max_digits = 4\n",
    "prime_max_digits = 2 * max_digits"
   ]
  },
  {
   "cell_type": "code",
   "execution_count": 3,
   "metadata": {},
   "outputs": [],
   "source": [
    "\n",
    "prime_list, prime_set = [], set()\n",
    "primer = gen_primes()\n",
    "digit_number = 1\n",
    "while True:\n",
    "    prime = next(primer)\n",
    "    if len(str(prime)) != digit_number:\n",
    "        digit_number += 1\n",
    "    if digit_number > max_digits:\n",
    "        break\n",
    "    prime_list.append(prime)\n",
    "    prime_set.add(prime)"
   ]
  },
  {
   "cell_type": "code",
   "execution_count": 4,
   "metadata": {},
   "outputs": [],
   "source": [
    "while True:\n",
    "    prime_set.add(prime)\n",
    "    prime = next(primer)\n",
    "    if len(str(prime)) > prime_max_digits:\n",
    "        break"
   ]
  },
  {
   "cell_type": "code",
   "execution_count": 5,
   "metadata": {},
   "outputs": [],
   "source": [
    "concat_prime_dict = {}\n",
    "while prime_list:\n",
    "    test = prime_list[0]\n",
    "    for elem in prime_list:\n",
    "        left = int(str(test) + str(elem))\n",
    "        right = int(str(elem) + str(test))\n",
    "        if left in prime_set and right in prime_set:\n",
    "            concat_prime_dict.setdefault((test, ), set()).update([test, elem])\n",
    "            concat_prime_dict.setdefault((elem, ), set()).update([test, elem])\n",
    "    prime_list.pop(0)"
   ]
  },
  {
   "cell_type": "code",
   "execution_count": 6,
   "metadata": {},
   "outputs": [],
   "source": [
    "old_dict, new_dict = concat_prime_dict.copy(), {}\n",
    "for _ in range(pair_set_max_len - 1):\n",
    "    for ref_key, ref_value in concat_prime_dict.items():\n",
    "        for key, value in old_dict.items():\n",
    "            if not ref_key[0] in key:\n",
    "                new_key = tuple(sorted(list(key + ref_key)))\n",
    "                if not new_key in new_dict:\n",
    "                    new_value = ref_value.intersection(value)\n",
    "                    if len(new_value) >= pair_set_max_len:\n",
    "                        new_dict[new_key] = new_value\n",
    "    old_dict, new_dict = new_dict, {}"
   ]
  },
  {
   "cell_type": "code",
   "execution_count": 7,
   "metadata": {},
   "outputs": [
    {
     "name": "stdout",
     "output_type": "stream",
     "text": [
      "26033\n"
     ]
    }
   ],
   "source": [
    "sums = [sum(x) for x in old_dict.values()]\n",
    "print(min(sums))"
   ]
  },
  {
   "cell_type": "code",
   "execution_count": 8,
   "metadata": {},
   "outputs": [
    {
     "name": "stdout",
     "output_type": "stream",
     "text": [
      "{(13, 5197, 5701, 6733, 8389): {5701, 8389, 5197, 13, 6733}}\n"
     ]
    }
   ],
   "source": [
    " print(old_dict)"
   ]
  },
  {
   "cell_type": "code",
   "execution_count": null,
   "metadata": {},
   "outputs": [],
   "source": []
  }
 ],
 "metadata": {
  "kernelspec": {
   "display_name": "Python 3",
   "language": "python",
   "name": "python3"
  },
  "language_info": {
   "codemirror_mode": {
    "name": "ipython",
    "version": 3
   },
   "file_extension": ".py",
   "mimetype": "text/x-python",
   "name": "python",
   "nbconvert_exporter": "python",
   "pygments_lexer": "ipython3",
   "version": "3.9.0"
  },
  "orig_nbformat": 4
 },
 "nbformat": 4,
 "nbformat_minor": 2
}
