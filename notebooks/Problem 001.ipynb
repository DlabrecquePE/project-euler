{
 "metadata": {
  "language_info": {
   "codemirror_mode": {
    "name": "ipython",
    "version": 3
   },
   "file_extension": ".py",
   "mimetype": "text/x-python",
   "name": "python",
   "nbconvert_exporter": "python",
   "pygments_lexer": "ipython3",
   "version": "3.9.0-final"
  },
  "orig_nbformat": 2,
  "kernelspec": {
   "name": "python3",
   "display_name": "Python 3",
   "language": "python"
  }
 },
 "nbformat": 4,
 "nbformat_minor": 2,
 "cells": [
  {
   "source": [
    "# Multiples of 3 and 5\n",
    "## Problem 1\n",
    "---\n",
    "<p>If we list all the natural numbers below 10 that are multiples of 3 or 5, we get 3, 5, 6 and 9. The sum of these multiples is 23.</p>\n",
    "<p>Find the sum of all the multiples of 3 or 5 below 1000.</p>  \n",
    "\n",
    "---\n",
    "https://projecteuler.net/problem=1"
   ],
   "cell_type": "markdown",
   "metadata": {}
  },
  {
   "source": [
    "This can be solved in one line with Python using a list comprehension."
   ],
   "cell_type": "markdown",
   "metadata": {}
  },
  {
   "source": [
    "print(sum([x for x in range(1, 1000) if (not x % 3) or (not x % 5)]))\n"
   ],
   "cell_type": "code",
   "metadata": {},
   "execution_count": 21,
   "outputs": [
    {
     "output_type": "stream",
     "name": "stdout",
     "text": [
      "233168\n"
     ]
    }
   ]
  },
  {
   "source": [
    "This builds our list of multiples from scratch using a FOR loop, and then sums the terms in the list for the correct answer.\n",
    "\n",
    "We will see that loops are inefficient at solving this problem. Instead there is a closed form solution available that can be found via arithmetic progression. \n",
    "\n",
    "https://en.wikipedia.org/wiki/Arithmetic_progression\n",
    "\n",
    "An arithmetic progression is a series of numbers with constant difference between adjacent terms. We can use the fact that lists of multiples are arithmetic progressions as a shortcut to looping in our problem.\n",
    "\n",
    "The formula for the sum of an arithmetic progression is as follows:\n",
    "\n",
    "$$\\frac {n(a_{1}+a_{n})}{2}$$\n",
    "\n",
    "Where n is the number of terms in our progression, and a</sub>1</sub> and a</sub>n</sub> are the first and last term respectively. We can adapt this formula to our problem to get a solution in constant time O(1). This also allows us to scale the solution to an arbitrarily sized input. This may not be terribly helpful in this case, but we may see the technique come in handy in future problems.\n",
    "\n",
    "Our inputs must be carefully considered to get the correct answer. The problem asks for multiples below 1000. We will need to add together the first 333 multiples of 3 (between 3 and 999) to the first 199 multiples of 5 (between 5 and 995). Some clever mathematical intuition is required here, however. We must recognize that our sum using arithmetic progressions double counts the numbers that are multiples of both 3 and 5. We must then subtract the 66 multiples of 15 between 15 and 990 to perfectly compensate for this overlap.\n"
   ],
   "cell_type": "markdown",
   "metadata": {}
  },
  {
   "cell_type": "code",
   "execution_count": 27,
   "metadata": {},
   "outputs": [
    {
     "output_type": "stream",
     "name": "stdout",
     "text": [
      "233168.0\n"
     ]
    }
   ],
   "source": [
    "# Arithmetic progression sum formula with the above inputs and some algebraic simplification\n",
    "print((333*(3+999)+199*(5+995)-66*(15+990))/2)"
   ]
  },
  {
   "source": [
    "We can see that implementing the closed form solution is much faster than one involving loops."
   ],
   "cell_type": "markdown",
   "metadata": {}
  },
  {
   "cell_type": "code",
   "execution_count": 7,
   "metadata": {},
   "outputs": [
    {
     "output_type": "stream",
     "name": "stdout",
     "text": [
      "The closed form solution is about  1612 times faster.\n"
     ]
    }
   ],
   "source": [
    "from time import time\n",
    "\n",
    "iter = 50000\n",
    "\n",
    "timer = time()\n",
    "for _ in range(iter):\n",
    "    sum([x for x in range(1, 1000) if (not x % 3) or (not x % 5)])\n",
    "time1 = time() - timer\n",
    "\n",
    "timer = time()\n",
    "for _ in range(iter):\n",
    "    333*(3+999)+199*(5+995)-66*(15+990)/2\n",
    "time2 = time() - timer\n",
    "\n",
    "print('The closed form solution is about ', int(time1 / time2), 'times faster.')"
   ]
  },
  {
   "source": [
    "Even on this modest sized dataset the efficiency increase is impressive, but the real power is in the scaling. No matter how large the numbers you feed the formula it will take roughly the same time to calulate the sum. While the looping method must iterate longer and longer to manage ever larger inputs."
   ],
   "cell_type": "markdown",
   "metadata": {}
  }
 ]
}