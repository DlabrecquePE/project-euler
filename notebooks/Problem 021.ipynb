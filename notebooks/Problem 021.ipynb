{
 "cells": [
  {
   "cell_type": "markdown",
   "metadata": {},
   "source": [
    "# Amicable numbers\r\n",
    "## Problem 21\r\n",
    "\r\n",
    "---\r\n",
    "\r\n",
    "<p>Let d(<i>n</i>) be defined as the sum of proper divisors of <i>n</i> (numbers less than <i>n</i> which divide evenly into <i>n</i>).<br />\r\n",
    "If d(<i>a</i>) = <i>b</i> and d(<i>b</i>) = <i>a</i>, where <i>a</i> ≠ <i>b</i>, then <i>a</i> and <i>b</i> are an amicable pair and each of <i>a</i> and <i>b</i> are called amicable numbers.</p>\r\n",
    "<p>For example, the proper divisors of 220 are 1, 2, 4, 5, 10, 11, 20, 22, 44, 55 and 110; therefore d(220) = 284. The proper divisors of 284 are 1, 2, 4, 71 and 142; so d(284) = 220.</p>\r\n",
    "<p>Evaluate the sum of all the amicable numbers under 10000.</p>\r\n",
    "\r\n",
    "---\r\n"
   ]
  },
  {
   "cell_type": "code",
   "execution_count": 63,
   "metadata": {},
   "outputs": [],
   "source": [
    "def gen_primes():\r\n",
    "    \"\"\" Generate an infinite sequence of prime numbers \"\"\"\r\n",
    "    d, q = {}, 2\r\n",
    "    while True:\r\n",
    "        if q not in d:\r\n",
    "            yield q\r\n",
    "            d[q * q] = [q]\r\n",
    "        else:\r\n",
    "            for p in d[q]:\r\n",
    "                d.setdefault(p + q, []).append(p)\r\n",
    "            del d[q]\r\n",
    "        q += 1\r\n",
    "\r\n",
    "\r\n",
    "def pfactor(num):\r\n",
    "    \"\"\" Returns a dict of prime factors of num          \"\"\"\r\n",
    "    \"\"\" dict keys are the prime factors                 \"\"\"\r\n",
    "    \"\"\" values contain the number of factors (exponent) \"\"\"\r\n",
    "\r\n",
    "    prime_factors, primes = {}, gen_primes()\r\n",
    "    for prime in primes:\r\n",
    "        while not num % prime:\r\n",
    "            prime_factors[prime] = prime_factors.get(prime, 0) + 1\r\n",
    "            num = num // prime\r\n",
    "        if num == 1:\r\n",
    "            return prime_factors\r\n",
    "        if prime > num ** 0.5:\r\n",
    "            prime_factors[num] = 1\r\n",
    "            return prime_factors\r\n",
    "\r\n",
    "\r\n",
    "def divisors(num):\r\n",
    "    \"\"\" takes a dict of prime factors from pfactor()    \"\"\"\r\n",
    "    \"\"\" returns list of divisors                        \"\"\"\r\n",
    "\r\n",
    "    num_dict = pfactor(num)\r\n",
    "\r\n",
    "    def inner_divisors(num_dict, num_list={1}):\r\n",
    "        if not num_dict:\r\n",
    "            return num_list\r\n",
    "\r\n",
    "        prime = min(num_dict.keys())\r\n",
    "        exp = num_dict[prime]\r\n",
    "        del num_dict[prime]\r\n",
    "        back_list = inner_divisors(num_dict, num_list)\r\n",
    "        work_list = [prime ** (i + 1) for i in range(exp)]\r\n",
    "        for div in work_list:\r\n",
    "            num_list = num_list.union(x * div for x in back_list)\r\n",
    "        num_list = num_list.union(work_list).union(back_list)\r\n",
    "        return num_list\r\n",
    "\r\n",
    "    return sorted(list(inner_divisors(num_dict)))\r\n"
   ]
  },
  {
   "cell_type": "code",
   "execution_count": 69,
   "metadata": {},
   "outputs": [
    {
     "name": "stdout",
     "output_type": "stream",
     "text": [
      "31626\n"
     ]
    }
   ],
   "source": [
    "div_sums = {x: sum(divisors(x)[:-1]) for x in range(1,10000)}\r\n",
    "amicables = [x for x, y in div_sums.items() if 1 < y < 10000 and div_sums[y] == x and x != y]\r\n",
    "print(sum(amicables))"
   ]
  }
 ],
 "metadata": {
  "kernelspec": {
   "display_name": "Python 3",
   "name": "python3"
  },
  "language_info": {
   "codemirror_mode": {
    "name": "ipython",
    "version": 3
   },
   "file_extension": ".py",
   "mimetype": "text/x-python",
   "name": "python",
   "nbconvert_exporter": "python",
   "pygments_lexer": "ipython3",
   "version": "3.9.0"
  },
  "orig_nbformat": 2
 },
 "nbformat": 4,
 "nbformat_minor": 2
}