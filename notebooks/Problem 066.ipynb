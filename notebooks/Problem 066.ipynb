{
 "cells": [
  {
   "cell_type": "code",
   "execution_count": 8,
   "metadata": {
    "collapsed": true
   },
   "outputs": [
    {
     "name": "stdout",
     "output_type": "stream",
     "text": [
      "2 3.0\n3 2.0\n5 9.0\n6 5.0\n7 8.0\n8 3.0\n10 19.0"
     ]
    },
    {
     "name": "stdout",
     "output_type": "stream",
     "text": [
      "\n11 10.0\n12 7.0\n13 649.0\n14 15.0\n15 4.0\n17 33.0\n18 17.0\n19 170.0\n20 9.0\n21 55.0\n22 197.0\n23 24.0\n24 5.0\n26 51.0\n27 26.0\n28 127.0\n29 9801.0\n30 11.0\n31 1520.0\n32 17.0\n33 23.0\n34 35.0\n35 6.0\n37 73.0\n38 37.0\n39 25.0\n40 19.0\n41 2049.0\n42 13.0\n43 3482.0\n44 199.0\n45 161.0\n46 24335.0\n47 48.0\n48 7.0\n50 99.0\n51 50.0\n52 649.0\n53 66249.0\n54 485.0\n55 89.0\n56 15.0\n57 151.0\n58 19603.0\n59 530.0\n60 31.0\n61 335159612.0\n62 63.0\n63 8.0\n65 129.0\n66 65.0\n67 48842.0\n68 33.0\n69 7775.0\n70 251.0\n71 3480.0\n72 17.0\n"
     ]
    },
    {
     "name": "stdout",
     "output_type": "stream",
     "text": [
      "73 2281249.0\n74 3699.0\n75 26.0\n76 57799.0"
     ]
    },
    {
     "name": "stdout",
     "output_type": "stream",
     "text": [
      "\n77 351.0\n78 53.0\n79 80.0\n80 9.0\n82 163.0\n83 82.0\n84 55.0\n85 285769.0\n86 10405.0\n87 28.0\n88 197.0\n89 500001.0\n90 19.0\n91 1574.0\n92 1151.0\n93 12151.0\n94 2143295.0\n95 39.0\n96 49.0\n"
     ]
    },
    {
     "name": "stdout",
     "output_type": "stream",
     "text": [
      "97 62809633.0\n98 99.0\n99 10.0\n101 201.0\n102 101.0\n103 227528.0\n104 "
     ]
    },
    {
     "name": "stdout",
     "output_type": "stream",
     "text": [
      "51.0\n105 41.0\n106 32080051.0\n107 962.0\n108 1351.0\n"
     ]
    },
    {
     "name": "stdout",
     "output_type": "stream",
     "text": [
      "109 372326272.0\n110 21.0\n111 295.0\n112 "
     ]
    },
    {
     "name": "stdout",
     "output_type": "stream",
     "text": [
      "127.0\n113 1204353.0\n114 1025.0\n115 1126.0\n116 9801.0\n117 649.0\n118 306917.0\n119 120.0\n120 11.0\n"
     ]
    },
    {
     "name": "stdout",
     "output_type": "stream",
     "text": [
      "122 243.0\n123 122.0\n124 4620799.0\n125 930249.0\n126 "
     ]
    },
    {
     "name": "stdout",
     "output_type": "stream",
     "text": [
      "449.0\n127 4730624.0\n128 577.0\n129 "
     ]
    },
    {
     "name": "stdout",
     "output_type": "stream",
     "text": [
      "16855.0\n130 6499.0\n131 10610.0\n132 23.0\n133 2588599.0\n134 145925.0\n135 244.0"
     ]
    },
    {
     "name": "stdout",
     "output_type": "stream",
     "text": [
      "\n136 35.0\n137 6083073.0\n138 47.0\n"
     ]
    },
    {
     "name": "stdout",
     "output_type": "stream",
     "text": [
      "139 77563250.0\n140 71.0\n141 95.0\n"
     ]
    },
    {
     "name": "stdout",
     "output_type": "stream",
     "text": [
      "142 143.0\n143 12.0\n145 289.0\n146 145.0\n147 97.0\n148 73.0\n149 255105526.0\n150 49.0\n"
     ]
    },
    {
     "name": "stdout",
     "output_type": "stream",
     "text": [
      "151 498062163.0\n152 37.0\n153 2177.0"
     ]
    },
    {
     "name": "stdout",
     "output_type": "stream",
     "text": [
      "\n154 21295.0\n155 249.0\n156 25.0\n157 241895480.0\n158 7743.0\n159 1324.0\n"
     ]
    },
    {
     "name": "stdout",
     "output_type": "stream",
     "text": [
      "160 721.0\n161 11775.0\n162 19601.0\n163 64080026.0\n164 2049.0\n165 1079.0\n"
     ]
    },
    {
     "name": "stdout",
     "output_type": "stream",
     "text": [
      "166 197136773.0\n167 168.0\n168 13.0"
     ]
    },
    {
     "name": "stdout",
     "output_type": "stream",
     "text": [
      "\n170 339.0\n171 170.0\n172 24248647.0\n"
     ]
    },
    {
     "name": "stdout",
     "output_type": "stream",
     "text": [
      "173 2499849.0\n174 1451.0\n175 2024.0"
     ]
    },
    {
     "name": "stdout",
     "output_type": "stream",
     "text": [
      "\n176 199.0\n177 62423.0\n178 1601.0\n179 4190210.0\n180 161.0\n"
     ]
    },
    {
     "name": "stdout",
     "output_type": "stream",
     "text": [
      "181 401010423.0\n182 27.0\n183 487.0\n184 24335.0\n"
     ]
    },
    {
     "name": "stdout",
     "output_type": "stream",
     "text": [
      "185 9249.0\n186 7501.0\n187 1682.0\n188 4607.0\n189 55.0\n190 52021.0\n191 8994000.0\n192 97.0\n"
     ]
    },
    {
     "name": "stdout",
     "output_type": "stream",
     "text": [
      "193 391883492.0\n194 195.0\n195 14.0"
     ]
    },
    {
     "name": "stdout",
     "output_type": "stream",
     "text": [
      "\n197 393.0\n198 197.0\n199 640500731.0\n200 99.0\n201 515095.0"
     ]
    },
    {
     "name": "stdout",
     "output_type": "stream",
     "text": [
      "\n202 19731763.0\n203 57.0\n204 4999.0\n205 "
     ]
    },
    {
     "name": "stdout",
     "output_type": "stream",
     "text": [
      "39689.0\n206 59535.0\n207 1151.0\n208 649.0\n209 46551.0\n210 29.0\n211 291226557.0\n212 66249.0\n213 194399.0\n"
     ]
    },
    {
     "name": "stdout",
     "output_type": "stream",
     "text": [
      "214 426950027.0\n215 44.0\n216 485.0\n"
     ]
    },
    {
     "name": "stdout",
     "output_type": "stream",
     "text": [
      "217 3844063.0\n218 126003.0\n219 74.0\n"
     ]
    },
    {
     "name": "stdout",
     "output_type": "stream",
     "text": [
      "220 89.0\n221 1665.0\n222 149.0\n223 224.0\n224 15.0\n226 451.0\n227 226.0\n228 151.0\n229 5848201.0\n230 91.0\n231 "
     ]
    },
    {
     "name": "stdout",
     "output_type": "stream",
     "text": [
      "76.0\n232 19603.0\n233 283475737.0\n234 5201.0\n235 46.0\n236 561799.0"
     ]
    },
    {
     "name": "stdout",
     "output_type": "stream",
     "text": [
      "\n237 228151.0\n238 11663.0\n239 6195120.0\n240 31.0\n"
     ]
    },
    {
     "name": "stdout",
     "output_type": "stream",
     "text": [
      "241 142022136.0\n242 19601.0\n243 70226.0\n"
     ]
    },
    {
     "name": "stdout",
     "output_type": "stream",
     "text": [
      "244 425680601.0\n245 51841.0\n246 88805.0\n247"
     ]
    },
    {
     "name": "stdout",
     "output_type": "stream",
     "text": [
      " 85292.0\n248 63.0\n249 8553815.0\n"
     ]
    },
    {
     "name": "stdout",
     "output_type": "stream",
     "text": [
      "250 39480499.0\n"
     ]
    },
    {
     "name": "stdout",
     "output_type": "stream",
     "text": [
      "251 3674890.0\n252 127.0\n"
     ]
    },
    {
     "name": "stdout",
     "output_type": "stream",
     "text": [
      "253 303010724.0\n254 255.0\n255 16.0\n"
     ]
    },
    {
     "name": "stdout",
     "output_type": "stream",
     "text": [
      "257 513.0\n258 257.0\n259 847225.0\n260 129.0\n261 192119201.0\n"
     ]
    },
    {
     "name": "stdout",
     "output_type": "stream",
     "text": [
      "262 104980517.0\n263 139128.0\n264 65.0"
     ]
    },
    {
     "name": "stdout",
     "output_type": "stream",
     "text": [
      "\n265 73738369.0\n266 685.0\n267 2402.0"
     ]
    },
    {
     "name": "stdout",
     "output_type": "stream",
     "text": [
      "\n268 534917633.0\n269 13449.0\n270 5291.0"
     ]
    },
    {
     "name": "stdout",
     "output_type": "stream",
     "text": [
      "\n271 667137236.0\n272 33.0\n273 727.0"
     ]
    },
    {
     "name": "stdout",
     "output_type": "stream",
     "text": [
      "\n274 3959299.0\n275 199.0\n276 7775.0\n"
     ]
    },
    {
     "name": "stdout",
     "output_type": "stream",
     "text": [
      "277 567444389.0\n278 2501.0\n279 1520.0"
     ]
    },
    {
     "name": "stdout",
     "output_type": "stream",
     "text": [
      "\n280 251.0\n281 606183385.0\n282 2351.0\n"
     ]
    },
    {
     "name": "stdout",
     "output_type": "stream",
     "text": [
      "283 138274082.0\n"
     ]
    },
    {
     "name": "stdout",
     "output_type": "stream",
     "text": [
      "284 24220799.0\n285 2431.0\n286 561835.0"
     ]
    },
    {
     "name": "stdout",
     "output_type": "stream",
     "text": [
      "\n287 288.0\n288 17.0\n290 579.0\n291 290.0\n292 2281249.0\n"
     ]
    },
    {
     "name": "stdout",
     "output_type": "stream",
     "text": [
      "293 12320649.0\n294 4801.0\n295"
     ]
    },
    {
     "name": "stdout",
     "output_type": "stream",
     "text": [
      " 2024999.0\n296 3699.0\n297 48599.0\n"
     ]
    },
    {
     "name": "stdout",
     "output_type": "stream",
     "text": [
      "298 268665646.0\n299 415.0\n300 1351.0\n"
     ]
    },
    {
     "name": "stdout",
     "output_type": "stream",
     "text": [
      "301 517335023.0\n"
     ]
    },
    {
     "name": "stdout",
     "output_type": "stream",
     "text": [
      "302 4276623.0\n303 2524.0\n304 57799.0\n305"
     ]
    },
    {
     "name": "stdout",
     "output_type": "stream",
     "text": [
      " 489.0\n306 35.0\n307 88529282.0\n308 351.0\n"
     ]
    },
    {
     "name": "stdout",
     "output_type": "stream",
     "text": [
      "309 440045063.0\n310 848719.0\n"
     ]
    },
    {
     "name": "stdout",
     "output_type": "stream",
     "text": [
      "311 16883880.0\n312 53.0\n"
     ]
    },
    {
     "name": "stdout",
     "output_type": "stream",
     "text": [
      "313 380587104.0\n314 392499.0\n315 71.0\n316 12799.0\n"
     ]
    },
    {
     "name": "stdout",
     "output_type": "stream",
     "text": [
      "317 577590652.0\n318 107.0\n"
     ]
    },
    {
     "name": "stdout",
     "output_type": "stream",
     "text": [
      "319 12901780.0\n320 161.0\n321 215.0\n322"
     ]
    },
    {
     "name": "stdout",
     "output_type": "stream",
     "text": [
      " 323.0\n323 18.0\n325 649.0\n326 325.0\n327 217.0\n328 163.0\n329 2376415.0\n330 109.0\n"
     ]
    },
    {
     "name": "stdout",
     "output_type": "stream",
     "text": [
      "331 770394803.0\n332 13447.0\n333 73.0\n"
     ]
    },
    {
     "name": "stdout",
     "output_type": "stream",
     "text": [
      "334 587510696.0\n335 604.0\n336 55.0\n"
     ]
    },
    {
     "name": "stdout",
     "output_type": "stream",
     "text": [
      "337 363218969.0\n338 114243.0\n339 97970.0\n340"
     ]
    },
    {
     "name": "stdout",
     "output_type": "stream",
     "text": [
      " 285769.0\n341 10626551.0\n342 37.0\n"
     ]
    },
    {
     "name": "stdout",
     "output_type": "stream",
     "text": [
      "343 130576328.0\n344 10405.0\n345 6761.0\n346"
     ]
    },
    {
     "name": "stdout",
     "output_type": "stream",
     "text": [
      " 17299.0\n347 641602.0\n348 1567.0\n349 169648201.0\n350 449.0\n351 62425.0\n352"
     ]
    },
    {
     "name": "stdout",
     "output_type": "stream",
     "text": [
      " 77617.0\n353 366866809.0\n354 258065.0\n355 954809.0\n356 500001.0\n"
     ]
    },
    {
     "name": "stdout",
     "output_type": "stream",
     "text": [
      "357 3401.0\n358 500898437.0\n359 360.0\n360 19.0\n"
     ]
    },
    {
     "name": "stdout",
     "output_type": "stream",
     "text": [
      "362 723.0\n363 362.0\n364 4954951.0\n"
     ]
    },
    {
     "name": "stdout",
     "output_type": "stream",
     "text": [
      "365 23915529.0\n366 907925.0\n"
     ]
    },
    {
     "name": "stdout",
     "output_type": "stream",
     "text": [
      "367 605024944.0\n368 1151.0\n"
     ]
    },
    {
     "name": "stdout",
     "output_type": "stream",
     "text": [
      "369 8396801.0\n370 213859.0\n371 "
     ]
    },
    {
     "name": "stdout",
     "output_type": "stream",
     "text": [
      "1695.0\n372 12151.0\n373 52387849.0\n374 3365.0\n375 15124.0\n376"
     ]
    },
    {
     "name": "stdout",
     "output_type": "stream",
     "text": [
      " 2143295.0\n377 233.0\n378 8749.0\n379 568796915.0\n380 39.0\n381"
     ]
    },
    {
     "name": "stdout",
     "output_type": "stream",
     "text": [
      " 1015.0\n382 174663166.0\n383 18768.0\n384 4801.0\n385"
     ]
    },
    {
     "name": "stdout",
     "output_type": "stream",
     "text": [
      " 95831.0\n386 111555.0\n387 3482.0\n388 62809633.0\n"
     ]
    },
    {
     "name": "stdout",
     "output_type": "stream",
     "text": [
      "389 3287049.0\n390 79.0\n"
     ]
    },
    {
     "name": "stdout",
     "output_type": "stream",
     "text": [
      "391 7338680.0\n392 99.0\n"
     ]
    },
    {
     "name": "stdout",
     "output_type": "stream",
     "text": [
      "393 46437143.0\n"
     ]
    },
    {
     "name": "stdout",
     "output_type": "stream",
     "text": [
      "394 395023035.0\n395 159.0\n396 199.0\n"
     ]
    },
    {
     "name": "stdout",
     "output_type": "stream",
     "text": [
      "397 474379627.0\n398 399.0\n399 20.0\n401 801.0"
     ]
    },
    {
     "name": "stdout",
     "output_type": "stream",
     "text": [
      "\n402 401.0\n403 669878.0\n404 201.0\n405 161.0\n406 59468095.0\n407 2663.0\n408 101.0"
     ]
    },
    {
     "name": "stdout",
     "output_type": "stream",
     "text": [
      "\n409 546136724.0\n410 81.0\n411 49730.0\n"
     ]
    },
    {
     "name": "stdout",
     "output_type": "stream",
     "text": [
      "412 434122470.0\n413 113399.0\n414 24335.0\n"
     ]
    },
    {
     "name": "stdout",
     "output_type": "stream",
     "text": [
      "415 18412804.0\n416 5201.0\n"
     ]
    },
    {
     "name": "stdout",
     "output_type": "stream",
     "text": [
      "417 85322647.0\n418 33857.0\n"
     ]
    },
    {
     "name": "stdout",
     "output_type": "stream",
     "text": [
      "419 270174970.0\n420 41.0\n"
     ]
    },
    {
     "name": "stdout",
     "output_type": "stream",
     "text": [
      "421 378867518.0\n"
     ]
    },
    {
     "name": "stdout",
     "output_type": "stream",
     "text": [
      "422 7022501.0\n423 4607.0\n"
     ]
    },
    {
     "name": "stdout",
     "output_type": "stream",
     "text": [
      "424 32080051.0\n425 143649.0\n426 88751.0\n427 62.0\n428"
     ]
    },
    {
     "name": "stdout",
     "output_type": "stream",
     "text": [
      " 1850887.0\n429 1524095.0\n"
     ]
    },
    {
     "name": "stdout",
     "output_type": "stream",
     "text": [
      "430 2862251.0\n"
     ]
    },
    {
     "name": "stdout",
     "output_type": "stream",
     "text": [
      "431 151560720.0\n432 1351.0\n"
     ]
    },
    {
     "name": "stdout",
     "output_type": "stream",
     "text": [
      "433 312800069.0\n434 125.0\n435 146.0\n"
     ]
    },
    {
     "name": "stdout",
     "output_type": "stream",
     "text": [
      "436 562934499.0\n437 4599.0\n438 293.0\n439 440.0"
     ]
    },
    {
     "name": "stdout",
     "output_type": "stream",
     "text": [
      "\n440 21.0\n442 883.0\n443 442.0\n444 295.0\n445 43468489.0\n"
     ]
    },
    {
     "name": "stdout",
     "output_type": "stream",
     "text": [
      "446 110166015.0\n447 148.0\n"
     ]
    },
    {
     "name": "stdout",
     "output_type": "stream",
     "text": [
      "448 127.0\n449 189471332.0\n450 19601.0\n"
     ]
    },
    {
     "name": "stdout",
     "output_type": "stream",
     "text": [
      "451 46471490.0\n452 1204353.0\n"
     ]
    },
    {
     "name": "stdout",
     "output_type": "stream",
     "text": [
      "453 1653751.0\n"
     ]
    },
    {
     "name": "stdout",
     "output_type": "stream",
     "text": [
      "454 650308390.0\n455 64.0\n456 1025.0\n"
     ]
    },
    {
     "name": "stdout",
     "output_type": "stream",
     "text": [
      "457 583531623.0\n458 22899.0\n459 499850.0\n"
     ]
    },
    {
     "name": "stdout",
     "output_type": "stream",
     "text": [
      "460 2535751.0\n"
     ]
    },
    {
     "name": "stdout",
     "output_type": "stream",
     "text": [
      "461 959700061.0\n462 43.0\n"
     ]
    },
    {
     "name": "stdout",
     "output_type": "stream",
     "text": [
      "463 334453558.0\n464 9801.0\n465 "
     ]
    },
    {
     "name": "stdout",
     "output_type": "stream",
     "text": [
      "15871.0\n466 387494822.0\n467 1625626.0\n468 649.0"
     ]
    },
    {
     "name": "stdout",
     "output_type": "stream",
     "text": [
      "\n469 137215.0\n470 1691.0\n471 7838695.0\n472 306917.0\n473 87.0\n474 "
     ]
    },
    {
     "name": "stdout",
     "output_type": "stream",
     "text": [
      "193549.0\n475 57799.0\n476 28799.0\n477 368477069.0\n"
     ]
    },
    {
     "name": "stdout",
     "output_type": "stream",
     "text": [
      "478 801567695.0\n"
     ]
    },
    {
     "name": "stdout",
     "output_type": "stream",
     "text": [
      "479 2989440.0\n480 241.0\n"
     ]
    },
    {
     "name": "stdout",
     "output_type": "stream",
     "text": [
      "481 549668033.0\n482 483.0\n483"
     ]
    },
    {
     "name": "stdout",
     "output_type": "stream",
     "text": [
      " 22.0\n485 969.0\n486 485.0\n487 317492291.0\n488 243.0\n"
     ]
    },
    {
     "name": "stdout",
     "output_type": "stream",
     "text": [
      "489 707974023.0\n490 1039681.0\n"
     ]
    },
    {
     "name": "stdout",
     "output_type": "stream",
     "text": [
      "491 725489305.0\n492 29767.0\n"
     ]
    },
    {
     "name": "stdout",
     "output_type": "stream",
     "text": [
      "493 151856327.0\n494 73035.0\n495 "
     ]
    },
    {
     "name": "stdout",
     "output_type": "stream",
     "text": [
      "89.0\n496 4620799.0\n497 1201887.0\n498 179777.0\n"
     ]
    },
    {
     "name": "stdout",
     "output_type": "stream",
     "text": [
      "499 4490.0\n500 930249.0\n501 673773097.0\n"
     ]
    },
    {
     "name": "stdout",
     "output_type": "stream",
     "text": [
      "502 622774517.0\n503 24648.0\n504 449.0\n"
     ]
    },
    {
     "name": "stdout",
     "output_type": "stream",
     "text": [
      "505 809.0\n506 45.0\n507 1351.0\n508 320775491.0\n"
     ]
    },
    {
     "name": "stdout",
     "output_type": "stream",
     "text": [
      "509 395727950.0\n510 271.0\n"
     ]
    },
    {
     "name": "stdout",
     "output_type": "stream",
     "text": [
      "511 659810024.0\n512 665857.0\n"
     ]
    },
    {
     "name": "stdout",
     "output_type": "stream",
     "text": [
      "513 13771351.0\n514 4625.0\n515 17406.0"
     ]
    },
    {
     "name": "stdout",
     "output_type": "stream",
     "text": [
      "\n516 16855.0\n517 1110550906.0\n518 2367.0\n"
     ]
    },
    {
     "name": "stdout",
     "output_type": "stream",
     "text": [
      "519 14851876.0\n520 6499.0\n"
     ]
    },
    {
     "name": "stdout",
     "output_type": "stream",
     "text": [
      "521 385131720.0\n522 19603.0\n"
     ]
    },
    {
     "name": "stdout",
     "output_type": "stream",
     "text": [
      "523 699903701.0\n"
     ]
    },
    {
     "name": "stdout",
     "output_type": "stream",
     "text": [
      "524 225144199.0\n525 6049.0\n"
     ]
    },
    {
     "name": "stdout",
     "output_type": "stream",
     "text": [
      "526 598776934.0\n527 528.0\n528 23.0\n530 "
     ]
    },
    {
     "name": "stdout",
     "output_type": "stream",
     "text": [
      "1059.0\n531 530.0\n532 2588599.0\n533 74859849.0\n"
     ]
    },
    {
     "name": "stdout",
     "output_type": "stream",
     "text": [
      "534 3678725.0\n535 1618804.0\n536 145925.0"
     ]
    },
    {
     "name": "stdout",
     "output_type": "stream",
     "text": [
      "\n537 192349463.0\n"
     ]
    },
    {
     "name": "stdout",
     "output_type": "stream",
     "text": [
      "538 739950864.0\n539 3970.0\n540 119071.0"
     ]
    },
    {
     "name": "stdout",
     "output_type": "stream",
     "text": [
      "\n541 503425738.0\n"
     ]
    },
    {
     "name": "stdout",
     "output_type": "stream",
     "text": [
      "542 4293183.0\n543 669337.0\n544 2449.0\n545 1961.0\n546 701.0\n"
     ]
    },
    {
     "name": "stdout",
     "output_type": "stream",
     "text": [
      "547 293546453.0\n"
     ]
    },
    {
     "name": "stdout",
     "output_type": "stream",
     "text": [
      "548 6083073.0\n"
     ]
    },
    {
     "name": "stdout",
     "output_type": "stream",
     "text": [
      "549 516201590.0\n"
     ]
    },
    {
     "name": "stdout",
     "output_type": "stream",
     "text": [
      "550 30580901.0\n551 8380.0\n552 47.0\n"
     ]
    },
    {
     "name": "stdout",
     "output_type": "stream",
     "text": [
      "553 635797691.0\n"
     ]
    },
    {
     "name": "stdout",
     "output_type": "stream",
     "text": [
      "554 549718851.0\n555 1814.0\n"
     ]
    },
    {
     "name": "stdout",
     "output_type": "stream",
     "text": [
      "556 155126500.0\n557 27849.0\n558 7937.0\n"
     ]
    },
    {
     "name": "stdout",
     "output_type": "stream",
     "text": [
      "559 506568295.0\n560 71.0\n561 522785.0\n"
     ]
    },
    {
     "name": "stdout",
     "output_type": "stream",
     "text": [
      "562 220938497.0\n563 68122.0\n564 95.0\n"
     ]
    },
    {
     "name": "stdout",
     "output_type": "stream",
     "text": [
      "565 689960039.0\n"
     ]
    },
    {
     "name": "stdout",
     "output_type": "stream",
     "text": [
      "566 95609285.0\n567 2024.0\n568 143.0\n"
     ]
    },
    {
     "name": "stdout",
     "output_type": "stream",
     "text": [
      "569 423458123.0\n570 191.0\n"
     ]
    },
    {
     "name": "stdout",
     "output_type": "stream",
     "text": [
      "571 591316157.0\n572 287.0\n573 383.0"
     ]
    },
    {
     "name": "stdout",
     "output_type": "stream",
     "text": [
      "\n574 575.0\n575 24.0\n577 1153.0\n578 577.0\n579 385.0\n580 289.0\n581 532576276.0\n582 193.0\n"
     ]
    },
    {
     "name": "stdout",
     "output_type": "stream",
     "text": [
      "583 8429543.0\n584 145.0\n585 33281.0\n"
     ]
    },
    {
     "name": "stdout",
     "output_type": "stream",
     "text": [
      "586 547586916.0\n587 1907162.0\n588 "
     ]
    },
    {
     "name": "stdout",
     "output_type": "stream",
     "text": [
      "97.0\n589 158907974.0\n590 5781.0\n591 165676.0\n592 73.0"
     ]
    },
    {
     "name": "stdout",
     "output_type": "stream",
     "text": [
      "\n593 497309513.0\n594 1098305.0\n595 18514.0\n"
     ]
    },
    {
     "name": "stdout",
     "output_type": "stream",
     "text": [
      "596 510211052.0\n"
     ]
    },
    {
     "name": "stdout",
     "output_type": "stream",
     "text": [
      "597 1032014507.0\n598 1574351.0\n"
     ]
    },
    {
     "name": "stdout",
     "output_type": "stream",
     "text": [
      "599 486663193.0\n600 49.0\n"
     ]
    },
    {
     "name": "stdout",
     "output_type": "stream",
     "text": [
      "601 529479983.0\n602 687.0\n603 48842.0\n"
     ]
    },
    {
     "name": "stdout",
     "output_type": "stream",
     "text": [
      "604 498062163.0\n605 930249.0\n"
     ]
    },
    {
     "name": "stdout",
     "output_type": "stream",
     "text": [
      "606 42187499.0\n"
     ]
    },
    {
     "name": "stdout",
     "output_type": "stream",
     "text": [
      "607 548871575.0\n608 2737.0\n609 605695.0\n"
     ]
    },
    {
     "name": "stdout",
     "output_type": "stream",
     "text": [
      "610 564287079.0\n611 236926.0\n612 2177.0"
     ]
    },
    {
     "name": "stdout",
     "output_type": "stream",
     "text": [
      "\n613 588084296.0\n"
     ]
    },
    {
     "name": "stdout",
     "output_type": "stream",
     "text": [
      "614 599586875.0\n615 124.0\n616 21295.0\n"
     ]
    },
    {
     "name": "stdout",
     "output_type": "stream",
     "text": [
      "617 1592796237.0\n618 10093.0\n"
     ]
    },
    {
     "name": "stdout",
     "output_type": "stream",
     "text": [
      "619 675920981.0\n620 249.0\n621 7775.0"
     ]
    },
    {
     "name": "stdout",
     "output_type": "stream",
     "text": [
      "\n622 293024624.0\n623 624.0\n624 25.0\n"
     ]
    },
    {
     "name": "stdout",
     "output_type": "stream",
     "text": [
      "626 1251.0\n627 626.0\n628 483790960.0\n"
     ]
    },
    {
     "name": "stdout",
     "output_type": "stream",
     "text": [
      "629 123245001.0\n630 251.0\n"
     ]
    },
    {
     "name": "stdout",
     "output_type": "stream",
     "text": [
      "631 560155918.0\n632 7743.0\n"
     ]
    },
    {
     "name": "stdout",
     "output_type": "stream",
     "text": [
      "633 440772247.0\n"
     ]
    },
    {
     "name": "stdout",
     "output_type": "stream",
     "text": [
      "634 336046992.0\n635 126.0\n"
     ]
    },
    {
     "name": "stdout",
     "output_type": "stream",
     "text": [
      "636 3505951.0\n"
     ]
    },
    {
     "name": "stdout",
     "output_type": "stream",
     "text": [
      "637 200477279.0\n638 42283.0\n"
     ]
    },
    {
     "name": "stdout",
     "output_type": "stream",
     "text": [
      "639 24220799.0\n640 1039681.0\n"
     ]
    },
    {
     "name": "stdout",
     "output_type": "stream",
     "text": [
      "641 162122886.0\n642 5777.0\n"
     ]
    },
    {
     "name": "stdout",
     "output_type": "stream",
     "text": [
      "643 393427068.0\n644 11775.0\n645 1024001.0\n646 305.0\n"
     ]
    },
    {
     "name": "stdout",
     "output_type": "stream",
     "text": [
      "647 120187368.0\n648 19601.0\n"
     ]
    },
    {
     "name": "stdout",
     "output_type": "stream",
     "text": [
      "649 339283364.0\n650 51.0\n651 1735.0\n"
     ]
    },
    {
     "name": "stdout",
     "output_type": "stream",
     "text": [
      "652 1074439109.0\n"
     ]
    },
    {
     "name": "stdout",
     "output_type": "stream",
     "text": [
      "653 775384979.0\n"
     ]
    },
    {
     "name": "stdout",
     "output_type": "stream",
     "text": [
      "654 8915765.0\n"
     ]
    },
    {
     "name": "stdout",
     "output_type": "stream",
     "text": [
      "655 437437795.0\n656 2049.0\n657 2281249.0"
     ]
    },
    {
     "name": "stdout",
     "output_type": "stream",
     "text": [
      "\n658 1693.0\n659 5930.0\n660 1079.0\n661 391044982.0\n"
     ]
    },
    {
     "name": "stdout",
     "output_type": "stream",
     "text": [
      "662 464986126.0\n663 103.0\n"
     ]
    },
    {
     "name": "stdout",
     "output_type": "stream",
     "text": [
      "664 394273546.0\n665 13719.0\n"
     ]
    },
    {
     "name": "stdout",
     "output_type": "stream",
     "text": [
      "666 27365201.0\n"
     ]
    },
    {
     "name": "stdout",
     "output_type": "stream",
     "text": [
      "667 107119097.0\n668 56447.0\n"
     ]
    },
    {
     "name": "stdout",
     "output_type": "stream",
     "text": [
      "669 146079351.0\n"
     ]
    },
    {
     "name": "stdout",
     "output_type": "stream",
     "text": [
      "670 5791211.0\n671 58620.0\n672 337.0\n"
     ]
    },
    {
     "name": "stdout",
     "output_type": "stream",
     "text": [
      "673 958168334.0\n674 675.0\n675 26.0"
     ]
    },
    {
     "name": "stdout",
     "output_type": "stream",
     "text": [
      "\n677 1353.0\n678 677.0\n679 361483747.0\n680 339.0\n"
     ]
    },
    {
     "name": "stdout",
     "output_type": "stream",
     "text": [
      "681 698437496.0\n682 1197901.0\n"
     ]
    },
    {
     "name": "stdout",
     "output_type": "stream",
     "text": [
      "683 170067682.0\n684 57799.0\n"
     ]
    },
    {
     "name": "stdout",
     "output_type": "stream",
     "text": [
      "685 218623878.0\n"
     ]
    },
    {
     "name": "stdout",
     "output_type": "stream",
     "text": [
      "686 455613205.0\n687 165337.0\n"
     ]
    },
    {
     "name": "stdout",
     "output_type": "stream",
     "text": [
      "688 24248647.0\n689 105.0\n690 1471.0"
     ]
    },
    {
     "name": "stdout",
     "output_type": "stream",
     "text": [
      "\n691 388834592.0\n692 2499849.0\n693 246401.0\n"
     ]
    },
    {
     "name": "stdout",
     "output_type": "stream",
     "text": [
      "694 563935873.0\n695 33639.0\n696 1451.0\n"
     ]
    },
    {
     "name": "stdout",
     "output_type": "stream",
     "text": [
      "697 34849.0\n698 51999603.0\n699 2271050.0\n"
     ]
    },
    {
     "name": "stdout",
     "output_type": "stream",
     "text": [
      "700 8193151.0\n"
     ]
    },
    {
     "name": "stdout",
     "output_type": "stream",
     "text": [
      "701 277631049.0\n702 53.0\n703 1159172.0\n704 79201.0\n"
     ]
    },
    {
     "name": "stdout",
     "output_type": "stream",
     "text": [
      "705 237161.0\n706 34595.0\n707 2526.0\n708 62423.0\n709 941951603.0\n710 1279.0\n711 80.0"
     ]
    },
    {
     "name": "stdout",
     "output_type": "stream",
     "text": [
      "\n712 1601.0\n713 5286367.0\n714 4115.0\n715 75646.0"
     ]
    },
    {
     "name": "stdout",
     "output_type": "stream",
     "text": [
      "\n716 335791967.0\n"
     ]
    },
    {
     "name": "stdout",
     "output_type": "stream",
     "text": [
      "717 6998399.0\n"
     ]
    },
    {
     "name": "stdout",
     "output_type": "stream",
     "text": [
      "718 544239212.0\n"
     ]
    },
    {
     "name": "stdout",
     "output_type": "stream",
     "text": [
      "719 545019485.0\n720 161.0\n"
     ]
    },
    {
     "name": "stdout",
     "output_type": "stream",
     "text": [
      "721 766102848.0\n"
     ]
    },
    {
     "name": "stdout",
     "output_type": "stream",
     "text": [
      "722 22619537.0\n723 242.0\n"
     ]
    },
    {
     "name": "stdout",
     "output_type": "stream",
     "text": [
      "724 401010423.0\n725 9801.0\n726 485.0\n"
     ]
    },
    {
     "name": "stdout",
     "output_type": "stream",
     "text": [
      "727 728.0\n728 27.0\n730 1459.0\n731 730.0\n732 487.0\n733 195307849.0\n"
     ]
    },
    {
     "name": "stdout",
     "output_type": "stream",
     "text": [
      "734 10394175.0\n735 244.0\n736 "
     ]
    },
    {
     "name": "stdout",
     "output_type": "stream",
     "text": [
      "24335.0\n737 252975383.0\n738 163.0\n"
     ]
    },
    {
     "name": "stdout",
     "output_type": "stream",
     "text": [
      "739 620125683.0\n740 9249.0\n"
     ]
    },
    {
     "name": "stdout",
     "output_type": "stream",
     "text": [
      "741 7352695.0\n"
     ]
    },
    {
     "name": "stdout",
     "output_type": "stream",
     "text": [
      "742 263091151.0\n743 714024.0\n744 7501.0\n"
     ]
    },
    {
     "name": "stdout",
     "output_type": "stream",
     "text": [
      "745 12769001.0\n"
     ]
    },
    {
     "name": "stdout",
     "output_type": "stream",
     "text": [
      "746 300613931.0\n747 82.0\n"
     ]
    },
    {
     "name": "stdout",
     "output_type": "stream",
     "text": [
      "748 5658247.0\n"
     ]
    },
    {
     "name": "stdout",
     "output_type": "stream",
     "text": [
      "749 167573023.0\n750 2550251.0\n"
     ]
    },
    {
     "name": "stdout",
     "output_type": "stream",
     "text": [
      "751 589999787.0\n752 4607.0\n"
     ]
    },
    {
     "name": "stdout",
     "output_type": "stream",
     "text": [
      "753 423135340.0\n"
     ]
    },
    {
     "name": "stdout",
     "output_type": "stream",
     "text": [
      "754 836977699.0\n755 1209.0\n756 55.0\n"
     ]
    },
    {
     "name": "stdout",
     "output_type": "stream",
     "text": [
      "757 150663196.0\n"
     ]
    },
    {
     "name": "stdout",
     "output_type": "stream",
     "text": [
      "758 413959717.0\n759 551.0\n760 52021.0\n761"
     ]
    },
    {
     "name": "stdout",
     "output_type": "stream",
     "text": [
      " 1280001.0\n762 6349.0\n763 271728688.0\n"
     ]
    },
    {
     "name": "stdout",
     "output_type": "stream",
     "text": [
      "764 250215553.0\n765 285769.0\n"
     ]
    },
    {
     "name": "stdout",
     "output_type": "stream",
     "text": [
      "766 363798414.0\n767 31212.0\n768 18817.0\n"
     ]
    },
    {
     "name": "stdout",
     "output_type": "stream",
     "text": [
      "769 570214728.0\n770 111.0\n"
     ]
    },
    {
     "name": "stdout",
     "output_type": "stream",
     "text": [
      "771 696807413.0\n"
     ]
    },
    {
     "name": "stdout",
     "output_type": "stream",
     "text": [
      "772 783766984.0\n"
     ]
    },
    {
     "name": "stdout",
     "output_type": "stream",
     "text": [
      "773 373378327.0\n774 10405.0\n"
     ]
    },
    {
     "name": "stdout",
     "output_type": "stream",
     "text": [
      "775 4620799.0\n776 195.0\n777"
     ]
    },
    {
     "name": "stdout",
     "output_type": "stream",
     "text": [
      " 223.0\n778 2178548422.0\n"
     ]
    },
    {
     "name": "stdout",
     "output_type": "stream",
     "text": [
      "779 11785490.0\n780 391.0\n"
     ]
    },
    {
     "name": "stdout",
     "output_type": "stream",
     "text": [
      "781 67606199.0\n782 783.0\n783 28.0\n"
     ]
    },
    {
     "name": "stdout",
     "output_type": "stream",
     "text": [
      "785 1569.0\n786 785.0\n787 584659685.0\n788 393.0\n"
     ]
    },
    {
     "name": "stdout",
     "output_type": "stream",
     "text": [
      "789 275779551.0\n"
     ]
    },
    {
     "name": "stdout",
     "output_type": "stream",
     "text": [
      "790 707513228.0\n791 225.0\n792 197.0\n793 "
     ]
    },
    {
     "name": "stdout",
     "output_type": "stream",
     "text": [
      "4393.0\n794 325449512.0\n795 6626.0\n"
     ]
    },
    {
     "name": "stdout",
     "output_type": "stream",
     "text": [
      "796 1196442047.0\n"
     ]
    },
    {
     "name": "stdout",
     "output_type": "stream",
     "text": [
      "797 1216797167.0\n798 113.0\n799"
     ]
    },
    {
     "name": "stdout",
     "output_type": "stream",
     "text": [
      " 424.0\n800 19601.0\n801 650973651.0\n"
     ]
    },
    {
     "name": "stdout",
     "output_type": "stream",
     "text": [
      "802 295496099.0\n803 7226.0\n804 515095.0\n"
     ]
    },
    {
     "name": "stdout",
     "output_type": "stream",
     "text": [
      "805 386225097.0\n"
     ]
    },
    {
     "name": "stdout",
     "output_type": "stream",
     "text": [
      "806 6166395.0\n"
     ]
    },
    {
     "name": "stdout",
     "output_type": "stream",
     "text": [
      "807 51841948.0\n"
     ]
    },
    {
     "name": "stdout",
     "output_type": "stream",
     "text": [
      "808 19731763.0\n"
     ]
    },
    {
     "name": "stdout",
     "output_type": "stream",
     "text": [
      "809 278601383.0\n810 27379.0\n"
     ]
    },
    {
     "name": "stdout",
     "output_type": "stream",
     "text": [
      "811 306799399.0\n812 57.0\n813 2167.0\n"
     ]
    },
    {
     "name": "stdout",
     "output_type": "stream",
     "text": [
      "814 548663137.0\n815 156644.0\n816 4999.0\n817 "
     ]
    },
    {
     "name": "stdout",
     "output_type": "stream",
     "text": [
      "343.0\n818 40899.0\n819 1574.0\n820 39689.0\n821 262083723.0\n822 7397.0\n"
     ]
    },
    {
     "name": "stdout",
     "output_type": "stream",
     "text": [
      "823 431722462.0\n824 59535.0\n825 48599.0\n"
     ]
    },
    {
     "name": "stdout",
     "output_type": "stream",
     "text": [
      "826 615591509.0\n827 900602.0\n828 1151.0\n"
     ]
    },
    {
     "name": "stdout",
     "output_type": "stream",
     "text": [
      "829 879672881.0\n830 146411.0\n"
     ]
    },
    {
     "name": "stdout",
     "output_type": "stream",
     "text": [
      "831 9799705.0\n832 842401.0\n"
     ]
    },
    {
     "name": "stdout",
     "output_type": "stream",
     "text": [
      "833 9478657.0\n"
     ]
    },
    {
     "name": "stdout",
     "output_type": "stream",
     "text": [
      "834 579749836.0\n"
     ]
    },
    {
     "name": "stdout",
     "output_type": "stream",
     "text": [
      "835 553153089.0\n836 46551.0\n837 "
     ]
    },
    {
     "name": "stdout",
     "output_type": "stream",
     "text": [
      "12151.0\n838 576238683.0\n839 840.0\n840 29.0"
     ]
    },
    {
     "name": "stdout",
     "output_type": "stream",
     "text": [
      "\n842 1683.0\n843 842.0\n844 582453114.0\n"
     ]
    },
    {
     "name": "stdout",
     "output_type": "stream",
     "text": [
      "845 299537289.0\n846 2143295.0\n"
     ]
    },
    {
     "name": "stdout",
     "output_type": "stream",
     "text": [
      "847 8193151.0\n848 66249.0\n"
     ]
    },
    {
     "name": "stdout",
     "output_type": "stream",
     "text": [
      "849 888102911.0\n850 2449.0\n"
     ]
    },
    {
     "name": "stdout",
     "output_type": "stream",
     "text": [
      "851 8418574.0\n852 194399.0\n"
     ]
    },
    {
     "name": "stdout",
     "output_type": "stream",
     "text": [
      "853 716385636.0\n854 1294299.0\n855 3041.0\n"
     ]
    },
    {
     "name": "stdout",
     "output_type": "stream",
     "text": [
      "856 622103357.0\n"
     ]
    },
    {
     "name": "stdout",
     "output_type": "stream",
     "text": [
      "857 473105997.0\n858 703.0\n"
     ]
    },
    {
     "name": "stdout",
     "output_type": "stream",
     "text": [
      "859 442140817.0\n860 3871.0\n"
     ]
    },
    {
     "name": "stdout",
     "output_type": "stream",
     "text": [
      "861 541601801.0\n"
     ]
    },
    {
     "name": "stdout",
     "output_type": "stream",
     "text": [
      "862 713551220.0\n"
     ]
    },
    {
     "name": "stdout",
     "output_type": "stream",
     "text": [
      "863 275881016.0\n864 470449.0\n"
     ]
    },
    {
     "name": "stdout",
     "output_type": "stream",
     "text": [
      "865 348345108.0\n866 42435.0\n867 70226.0"
     ]
    },
    {
     "name": "stdout",
     "output_type": "stream",
     "text": [
      "\n868 3844063.0\n"
     ]
    },
    {
     "name": "stdout",
     "output_type": "stream",
     "text": [
      "869 291842773.0\n870 59.0\n"
     ]
    },
    {
     "name": "stdout",
     "output_type": "stream",
     "text": [
      "871 494202326.0\n872 126003.0\n"
     ]
    },
    {
     "name": "stdout",
     "output_type": "stream",
     "text": [
      "873 62809633.0\n874 3725.0\n875 120126.0\n"
     ]
    },
    {
     "name": "stdout",
     "output_type": "stream",
     "text": [
      "876 10951.0\n877 628901390.0\n"
     ]
    },
    {
     "name": "stdout",
     "output_type": "stream",
     "text": [
      "878 9314703.0\n"
     ]
    },
    {
     "name": "stdout",
     "output_type": "stream",
     "text": [
      "879 107245324.0\n880 89.0\n"
     ]
    },
    {
     "name": "stdout",
     "output_type": "stream",
     "text": [
      "881 407030946.0\n882 19601.0\n"
     ]
    },
    {
     "name": "stdout",
     "output_type": "stream",
     "text": [
      "883 1186224595.0\n884 1665.0\n885 119.0\n"
     ]
    },
    {
     "name": "stdout",
     "output_type": "stream",
     "text": [
      "886 519758729.0\n887 469224.0\n888 149.0"
     ]
    },
    {
     "name": "stdout",
     "output_type": "stream",
     "text": [
      "\n889 994414235.0\n890 179.0\n891 3970.0\n892 "
     ]
    },
    {
     "name": "stdout",
     "output_type": "stream",
     "text": [
      "100351.0\n893 712054670.0\n894 299.0\n895 359.0"
     ]
    },
    {
     "name": "stdout",
     "output_type": "stream",
     "text": [
      "\n896 449.0\n897 599.0\n898 899.0\n899 30.0\n901 1801.0\n902 901.0\n903 601.0\n904 451.0\n905 361.0\n906 301.0\n907 1028830619.0\n908 102151.0\n909"
     ]
    },
    {
     "name": "stdout",
     "output_type": "stream",
     "text": [
      " 80801.0\n910 181.0\n911 551326625.0\n912 151.0\n"
     ]
    },
    {
     "name": "stdout",
     "output_type": "stream",
     "text": [
      "913 306075029.0\n"
     ]
    },
    {
     "name": "stdout",
     "output_type": "stream",
     "text": [
      "914 62563299.0\n915 121.0\n"
     ]
    },
    {
     "name": "stdout",
     "output_type": "stream",
     "text": [
      "916 5848201.0\n"
     ]
    },
    {
     "name": "stdout",
     "output_type": "stream",
     "text": [
      "917 823604599.0\n"
     ]
    },
    {
     "name": "stdout",
     "output_type": "stream",
     "text": [
      "918 4120901.0\n"
     ]
    },
    {
     "name": "stdout",
     "output_type": "stream",
     "text": [
      "919 384900835.0\n920 91.0\n"
     ]
    },
    {
     "name": "stdout",
     "output_type": "stream",
     "text": [
      "921 1114256834.0\n"
     ]
    },
    {
     "name": "stdout",
     "output_type": "stream",
     "text": [
      "922 419288307.0\n923 638.0\n924 11551.0\n925 "
     ]
    },
    {
     "name": "stdout",
     "output_type": "stream",
     "text": [
      "1555849.0\n926 527303951.0\n927 227528.0\n"
     ]
    },
    {
     "name": "stdout",
     "output_type": "stream",
     "text": [
      "928 768555217.0\n"
     ]
    },
    {
     "name": "stdout",
     "output_type": "stream",
     "text": [
      "929 292375805.0\n930 61.0\n"
     ]
    },
    {
     "name": "stdout",
     "output_type": "stream",
     "text": [
      "931 164264819.0\n"
     ]
    },
    {
     "name": "stdout",
     "output_type": "stream",
     "text": [
      "932 566951474.0\n933 75263.0\n934 "
     ]
    },
    {
     "name": "stdout",
     "output_type": "stream",
     "text": [
      "3034565.0\n935 1376.0\n936 5201.0\n937 387343513.0\n938 17151.0\n939 122695.0\n"
     ]
    },
    {
     "name": "stdout",
     "output_type": "stream",
     "text": [
      "940 4231.0\n941 731069390.0\n942 106133.0\n943 737.0\n"
     ]
    },
    {
     "name": "stdout",
     "output_type": "stream",
     "text": [
      "944 561799.0\n945 275561.0\n946 619613483.0\n"
     ]
    },
    {
     "name": "stdout",
     "output_type": "stream",
     "text": [
      "947 536522573.0\n948 228151.0\n"
     ]
    },
    {
     "name": "stdout",
     "output_type": "stream",
     "text": [
      "949 1016454459.0\n950 202501.0\n"
     ]
    },
    {
     "name": "stdout",
     "output_type": "stream",
     "text": [
      "951 224208076.0\n952 11663.0\n"
     ]
    },
    {
     "name": "stdout",
     "output_type": "stream",
     "text": [
      "953 355174883.0\n"
     ]
    },
    {
     "name": "stdout",
     "output_type": "stream",
     "text": [
      "954 32080051.0\n"
     ]
    },
    {
     "name": "stdout",
     "output_type": "stream",
     "text": [
      "955 609252657.0\n"
     ]
    },
    {
     "name": "stdout",
     "output_type": "stream",
     "text": [
      "956 572298213.0\n957 14849.0\n"
     ]
    },
    {
     "name": "stdout",
     "output_type": "stream",
     "text": [
      "958 129470160.0\n959 960.0\n960 31.0\n962"
     ]
    },
    {
     "name": "stdout",
     "output_type": "stream",
     "text": [
      " 1923.0\n963 962.0\n964 142022136.0\n"
     ]
    },
    {
     "name": "stdout",
     "output_type": "stream",
     "text": [
      "965 446526729.0\n966 57499.0\n"
     ]
    },
    {
     "name": "stdout",
     "output_type": "stream",
     "text": [
      "967 1114540897.0\n968 19601.0\n"
     ]
    },
    {
     "name": "stdout",
     "output_type": "stream",
     "text": [
      "969 13588951.0\n"
     ]
    },
    {
     "name": "stdout",
     "output_type": "stream",
     "text": [
      "970 143087944.0\n"
     ]
    },
    {
     "name": "stdout",
     "output_type": "stream",
     "text": [
      "971 991706964.0\n"
     ]
    },
    {
     "name": "stdout",
     "output_type": "stream",
     "text": [
      "972 606471923.0\n973 903223.0\n"
     ]
    },
    {
     "name": "stdout",
     "output_type": "stream",
     "text": [
      "974 676646957.0\n975 1249.0\n"
     ]
    },
    {
     "name": "stdout",
     "output_type": "stream",
     "text": [
      "976 425680601.0\n"
     ]
    },
    {
     "name": "stdout",
     "output_type": "stream",
     "text": [
      "977 619577520.0\n978 118337.0\n979 360449.0\n"
     ]
    },
    {
     "name": "stdout",
     "output_type": "stream",
     "text": [
      "980 51841.0\n981 372326272.0\n982 8837.0\n983 284088.0\n984 88805.0"
     ]
    },
    {
     "name": "stdout",
     "output_type": "stream",
     "text": [
      "\n985 332929.0\n986 49299.0\n987 377.0\n988 396778604.0\n"
     ]
    },
    {
     "name": "stdout",
     "output_type": "stream",
     "text": [
      "989 644506991.0\n990 881.0\n"
     ]
    },
    {
     "name": "stdout",
     "output_type": "stream",
     "text": [
      "991 775587755.0\n992 63.0\n993 2647.0\n"
     ]
    },
    {
     "name": "stdout",
     "output_type": "stream",
     "text": [
      "994 1135.0\n995 8835999.0\n"
     ]
    },
    {
     "name": "stdout",
     "output_type": "stream",
     "text": [
      "996 8553815.0\n"
     ]
    },
    {
     "name": "stdout",
     "output_type": "stream",
     "text": [
      "997 391416439.0\n"
     ]
    },
    {
     "name": "stdout",
     "output_type": "stream",
     "text": [
      "998 402351652.0\n"
     ]
    },
    {
     "name": "stdout",
     "output_type": "stream",
     "text": [
      "999 102688615.0\n"
     ]
    },
    {
     "name": "stdout",
     "output_type": "stream",
     "text": [
      "1000 39480499.0\nD value with maximal x:  778\n"
     ]
    }
   ],
   "source": [
    "def keywithmaxval(d):\n",
    "     \"\"\" a) create a list of the dict's keys and values; \n",
    "         b) return the key with the max value\"\"\"  \n",
    "     v=list(d.values())\n",
    "     k=list(d.keys())\n",
    "     return k[v.index(max(v))]\n",
    "\n",
    "\n",
    "D_list, D_min_x = [i for i in range(1,1001) if not (i ** 0.5).is_integer()], {}\n",
    "for D in D_list:\n",
    "    y = 1\n",
    "    while 1:\n",
    "        x = (D * (y ** 2) + 1) ** 0.5\n",
    "        if x.is_integer():\n",
    "            D_min_x[D] = x\n",
    "            break\n",
    "        y += 1\n",
    "    print(D, x)\n",
    "print('D value with maximal x: ', keywithmaxval(D_min_x))"
   ]
  },
  {
   "cell_type": "code",
   "execution_count": null,
   "metadata": {},
   "outputs": [],
   "source": [
    "def calc_cont_fract(seq):\n",
    "    d, n = seq.pop(), 1\n",
    "    while len(seq) > 1:\n",
    "        n = d * seq.pop() + n  \n",
    "        d, n = n, d\n",
    "    return (seq.pop() * d + n, d)"
   ]
  },
  {
   "cell_type": "code",
   "execution_count": 9,
   "metadata": {
    "collapsed": true
   },
   "outputs": [
    {
     "name": "stdout",
     "output_type": "stream",
     "text": [
      "{2: 3.0, 3: 2.0, 5: 9.0, 6: 5.0, 7: 8.0, 8: 3.0, 10: 19.0, 11: 10.0, 12: 7.0, 13: 649.0, 14: 15.0, 15: 4.0, 17: 33.0, 18: 17.0, 19: 170.0, 20: 9.0, 21: 55.0, 22: 197.0, 23: 24.0, 24: 5.0, 26: 51.0, 27: 26.0, 28: 127.0, 29: 9801.0, 30: 11.0, 31: 1520.0, 32: 17.0, 33: 23.0, 34: 35.0, 35: 6.0, 37: 73.0, 38: 37.0, 39: 25.0, 40: 19.0, 41: 2049.0, 42: 13.0, 43: 3482.0, 44: 199.0, 45: 161.0, 46: 24335.0, 47: 48.0, 48: 7.0, 50: 99.0, 51: 50.0, 52: 649.0, 53: 66249.0, 54: 485.0, 55: 89.0, 56: 15.0, 57: 151.0, 58: 19603.0, 59: 530.0, 60: 31.0, 61: 335159612.0, 62: 63.0, 63: 8.0, 65: 129.0, 66: 65.0, 67: 48842.0, 68: 33.0, 69: 7775.0, 70: 251.0, 71: 3480.0, 72: 17.0, 73: 2281249.0, 74: 3699.0, 75: 26.0, 76: 57799.0, 77: 351.0, 78: 53.0, 79: 80.0, 80: 9.0, 82: 163.0, 83: 82.0, 84: 55.0, 85: 285769.0, 86: 10405.0, 87: 28.0, 88: 197.0, 89: 500001.0, 90: 19.0, 91: 1574.0, 92: 1151.0, 93: 12151.0, 94: 2143295.0, 95: 39.0, 96: 49.0, 97: 62809633.0, 98: 99.0, 99: 10.0, 101: 201.0, 102: 101.0, 103: 227528.0, 104: 51.0, 105: 41.0, 106: 32080051.0, 107: 962.0, 108: 1351.0, 109: 372326272.0, 110: 21.0, 111: 295.0, 112: 127.0, 113: 1204353.0, 114: 1025.0, 115: 1126.0, 116: 9801.0, 117: 649.0, 118: 306917.0, 119: 120.0, 120: 11.0, 122: 243.0, 123: 122.0, 124: 4620799.0, 125: 930249.0, 126: 449.0, 127: 4730624.0, 128: 577.0, 129: 16855.0, 130: 6499.0, 131: 10610.0, 132: 23.0, 133: 2588599.0, 134: 145925.0, 135: 244.0, 136: 35.0, 137: 6083073.0, 138: 47.0, 139: 77563250.0, 140: 71.0, 141: 95.0, 142: 143.0, 143: 12.0, 145: 289.0, 146: 145.0, 147: 97.0, 148: 73.0, 149: 255105526.0, 150: 49.0, 151: 498062163.0, 152: 37.0, 153: 2177.0, 154: 21295.0, 155: 249.0, 156: 25.0, 157: 241895480.0, 158: 7743.0, 159: 1324.0, 160: 721.0, 161: 11775.0, 162: 19601.0, 163: 64080026.0, 164: 2049.0, 165: 1079.0, 166: 197136773.0, 167: 168.0, 168: 13.0, 170: 339.0, 171: 170.0, 172: 24248647.0, 173: 2499849.0, 174: 1451.0, 175: 2024.0, 176: 199.0, 177: 62423.0, 178: 1601.0, 179: 4190210.0, 180: 161.0, 181: 401010423.0, 182: 27.0, 183: 487.0, 184: 24335.0, 185: 9249.0, 186: 7501.0, 187: 1682.0, 188: 4607.0, 189: 55.0, 190: 52021.0, 191: 8994000.0, 192: 97.0, 193: 391883492.0, 194: 195.0, 195: 14.0, 197: 393.0, 198: 197.0, 199: 640500731.0, 200: 99.0, 201: 515095.0, 202: 19731763.0, 203: 57.0, 204: 4999.0, 205: 39689.0, 206: 59535.0, 207: 1151.0, 208: 649.0, 209: 46551.0, 210: 29.0, 211: 291226557.0, 212: 66249.0, 213: 194399.0, 214: 426950027.0, 215: 44.0, 216: 485.0, 217: 3844063.0, 218: 126003.0, 219: 74.0, 220: 89.0, 221: 1665.0, 222: 149.0, 223: 224.0, 224: 15.0, 226: 451.0, 227: 226.0, 228: 151.0, 229: 5848201.0, 230: 91.0, 231: 76.0, 232: 19603.0, 233: 283475737.0, 234: 5201.0, 235: 46.0, 236: 561799.0, 237: 228151.0, 238: 11663.0, 239: 6195120.0, 240: 31.0, 241: 142022136.0, 242: 19601.0, 243: 70226.0, 244: 425680601.0, 245: 51841.0, 246: 88805.0, 247: 85292.0, 248: 63.0, 249: 8553815.0, 250: 39480499.0, 251: 3674890.0, 252: 127.0, 253: 303010724.0, 254: 255.0, 255: 16.0, 257: 513.0, 258: 257.0, 259: 847225.0, 260: 129.0, 261: 192119201.0, 262: 104980517.0, 263: 139128.0, 264: 65.0, 265: 73738369.0, 266: 685.0, 267: 2402.0, 268: 534917633.0, 269: 13449.0, 270: 5291.0, 271: 667137236.0, 272: 33.0, 273: 727.0, 274: 3959299.0, 275: 199.0, 276: 7775.0, 277: 567444389.0, 278: 2501.0, 279: 1520.0, 280: 251.0, 281: 606183385.0, 282: 2351.0, 283: 138274082.0, 284: 24220799.0, 285: 2431.0, 286: 561835.0, 287: 288.0, 288: 17.0, 290: 579.0, 291: 290.0, 292: 2281249.0, 293: 12320649.0, 294: 4801.0, 295: 2024999.0, 296: 3699.0, 297: 48599.0, 298: 268665646.0, 299: 415.0, 300: 1351.0, 301: 517335023.0, 302: 4276623.0, 303: 2524.0, 304: 57799.0, 305: 489.0, 306: 35.0, 307: 88529282.0, 308: 351.0, 309: 440045063.0, 310: 848719.0, 311: 16883880.0, 312: 53.0, 313: 380587104.0, 314: 392499.0, 315: 71.0, 316: 12799.0, 317: 577590652.0, 318: 107.0, 319: 12901780.0, 320: 161.0, 321: 215.0, 322: 323.0, 323: 18.0, 325: 649.0, 326: 325.0, 327: 217.0, 328: 163.0, 329: 2376415.0, 330: 109.0, 331: 770394803.0, 332: 13447.0, 333: 73.0, 334: 587510696.0, 335: 604.0, 336: 55.0, 337: 363218969.0, 338: 114243.0, 339: 97970.0, 340: 285769.0, 341: 10626551.0, 342: 37.0, 343: 130576328.0, 344: 10405.0, 345: 6761.0, 346: 17299.0, 347: 641602.0, 348: 1567.0, 349: 169648201.0, 350: 449.0, 351: 62425.0, 352: 77617.0, 353: 366866809.0, 354: 258065.0, 355: 954809.0, 356: 500001.0, 357: 3401.0, 358: 500898437.0, 359: 360.0, 360: 19.0, 362: 723.0, 363: 362.0, 364: 4954951.0, 365: 23915529.0, 366: 907925.0, 367: 605024944.0, 368: 1151.0, 369: 8396801.0, 370: 213859.0, 371: 1695.0, 372: 12151.0, 373: 52387849.0, 374: 3365.0, 375: 15124.0, 376: 2143295.0, 377: 233.0, 378: 8749.0, 379: 568796915.0, 380: 39.0, 381: 1015.0, 382: 174663166.0, 383: 18768.0, 384: 4801.0, 385: 95831.0, 386: 111555.0, 387: 3482.0, 388: 62809633.0, 389: 3287049.0, 390: 79.0, 391: 7338680.0, 392: 99.0, 393: 46437143.0, 394: 395023035.0, 395: 159.0, 396: 199.0, 397: 474379627.0, 398: 399.0, 399: 20.0, 401: 801.0, 402: 401.0, 403: 669878.0, 404: 201.0, 405: 161.0, 406: 59468095.0, 407: 2663.0, 408: 101.0, 409: 546136724.0, 410: 81.0, 411: 49730.0, 412: 434122470.0, 413: 113399.0, 414: 24335.0, 415: 18412804.0, 416: 5201.0, 417: 85322647.0, 418: 33857.0, 419: 270174970.0, 420: 41.0, 421: 378867518.0, 422: 7022501.0, 423: 4607.0, 424: 32080051.0, 425: 143649.0, 426: 88751.0, 427: 62.0, 428: 1850887.0, 429: 1524095.0, 430: 2862251.0, 431: 151560720.0, 432: 1351.0, 433: 312800069.0, 434: 125.0, 435: 146.0, 436: 562934499.0, 437: 4599.0, 438: 293.0, 439: 440.0, 440: 21.0, 442: 883.0, 443: 442.0, 444: 295.0, 445: 43468489.0, 446: 110166015.0, 447: 148.0, 448: 127.0, 449: 189471332.0, 450: 19601.0, 451: 46471490.0, 452: 1204353.0, 453: 1653751.0, 454: 650308390.0, 455: 64.0, 456: 1025.0, 457: 583531623.0, 458: 22899.0, 459: 499850.0, 460: 2535751.0, 461: 959700061.0, 462: 43.0, 463: 334453558.0, 464: 9801.0, 465: 15871.0, 466: 387494822.0, 467: 1625626.0, 468: 649.0, 469: 137215.0, 470: 1691.0, 471: 7838695.0, 472: 306917.0, 473: 87.0, 474: 193549.0, 475: 57799.0, 476: 28799.0, 477: 368477069.0, 478: 801567695.0, 479: 2989440.0, 480: 241.0, 481: 549668033.0, 482: 483.0, 483: 22.0, 485: 969.0, 486: 485.0, 487: 317492291.0, 488: 243.0, 489: 707974023.0, 490: 1039681.0, 491: 725489305.0, 492: 29767.0, 493: 151856327.0, 494: 73035.0, 495: 89.0, 496: 4620799.0, 497: 1201887.0, 498: 179777.0, 499: 4490.0, 500: 930249.0, 501: 673773097.0, 502: 622774517.0, 503: 24648.0, 504: 449.0, 505: 809.0, 506: 45.0, 507: 1351.0, 508: 320775491.0, 509: 395727950.0, 510: 271.0, 511: 659810024.0, 512: 665857.0, 513: 13771351.0, 514: 4625.0, 515: 17406.0, 516: 16855.0, 517: 1110550906.0, 518: 2367.0, 519: 14851876.0, 520: 6499.0, 521: 385131720.0, 522: 19603.0, 523: 699903701.0, 524: 225144199.0, 525: 6049.0, 526: 598776934.0, 527: 528.0, 528: 23.0, 530: 1059.0, 531: 530.0, 532: 2588599.0, 533: 74859849.0, 534: 3678725.0, 535: 1618804.0, 536: 145925.0, 537: 192349463.0, 538: 739950864.0, 539: 3970.0, 540: 119071.0, 541: 503425738.0, 542: 4293183.0, 543: 669337.0, 544: 2449.0, 545: 1961.0, 546: 701.0, 547: 293546453.0, 548: 6083073.0, 549: 516201590.0, 550: 30580901.0, 551: 8380.0, 552: 47.0, 553: 635797691.0, 554: 549718851.0, 555: 1814.0, 556: 155126500.0, 557: 27849.0, 558: 7937.0, 559: 506568295.0, 560: 71.0, 561: 522785.0, 562: 220938497.0, 563: 68122.0, 564: 95.0, 565: 689960039.0, 566: 95609285.0, 567: 2024.0, 568: 143.0, 569: 423458123.0, 570: 191.0, 571: 591316157.0, 572: 287.0, 573: 383.0, 574: 575.0, 575: 24.0, 577: 1153.0, 578: 577.0, 579: 385.0, 580: 289.0, 581: 532576276.0, 582: 193.0, 583: 8429543.0, 584: 145.0, 585: 33281.0, 586: 547586916.0, 587: 1907162.0, 588: 97.0, 589: 158907974.0, 590: 5781.0, 591: 165676.0, 592: 73.0, 593: 497309513.0, 594: 1098305.0, 595: 18514.0, 596: 510211052.0, 597: 1032014507.0, 598: 1574351.0, 599: 486663193.0, 600: 49.0, 601: 529479983.0, 602: 687.0, 603: 48842.0, 604: 498062163.0, 605: 930249.0, 606: 42187499.0, 607: 548871575.0, 608: 2737.0, 609: 605695.0, 610: 564287079.0, 611: 236926.0, 612: 2177.0, 613: 588084296.0, 614: 599586875.0, 615: 124.0, 616: 21295.0, 617: 1592796237.0, 618: 10093.0, 619: 675920981.0, 620: 249.0, 621: 7775.0, 622: 293024624.0, 623: 624.0, 624: 25.0, 626: 1251.0, 627: 626.0, 628: 483790960.0, 629: 123245001.0, 630: 251.0, 631: 560155918.0, 632: 7743.0, 633: 440772247.0, 634: 336046992.0, 635: 126.0, 636: 3505951.0, 637: 200477279.0, 638: 42283.0, 639: 24220799.0, 640: 1039681.0, 641: 162122886.0, 642: 5777.0, 643: 393427068.0, 644: 11775.0, 645: 1024001.0, 646: 305.0, 647: 120187368.0, 648: 19601.0, 649: 339283364.0, 650: 51.0, 651: 1735.0, 652: 1074439109.0, 653: 775384979.0, 654: 8915765.0, 655: 437437795.0, 656: 2049.0, 657: 2281249.0, 658: 1693.0, 659: 5930.0, 660: 1079.0, 661: 391044982.0, 662: 464986126.0, 663: 103.0, 664: 394273546.0, 665: 13719.0, 666: 27365201.0, 667: 107119097.0, 668: 56447.0, 669: 146079351.0, 670: 5791211.0, 671: 58620.0, 672: 337.0, 673: 958168334.0, 674: 675.0, 675: 26.0, 677: 1353.0, 678: 677.0, 679: 361483747.0, 680: 339.0, 681: 698437496.0, 682: 1197901.0, 683: 170067682.0, 684: 57799.0, 685: 218623878.0, 686: 455613205.0, 687: 165337.0, 688: 24248647.0, 689: 105.0, 690: 1471.0, 691: 388834592.0, 692: 2499849.0, 693: 246401.0, 694: 563935873.0, 695: 33639.0, 696: 1451.0, 697: 34849.0, 698: 51999603.0, 699: 2271050.0, 700: 8193151.0, 701: 277631049.0, 702: 53.0, 703: 1159172.0, 704: 79201.0, 705: 237161.0, 706: 34595.0, 707: 2526.0, 708: 62423.0, 709: 941951603.0, 710: 1279.0, 711: 80.0, 712: 1601.0, 713: 5286367.0, 714: 4115.0, 715: 75646.0, 716: 335791967.0, 717: 6998399.0, 718: 544239212.0, 719: 545019485.0, 720: 161.0, 721: 766102848.0, 722: 22619537.0, 723: 242.0, 724: 401010423.0, 725: 9801.0, 726: 485.0, 727: 728.0, 728: 27.0, 730: 1459.0, 731: 730.0, 732: 487.0, 733: 195307849.0, 734: 10394175.0, 735: 244.0, 736: 24335.0, 737: 252975383.0, 738: 163.0, 739: 620125683.0, 740: 9249.0, 741: 7352695.0, 742: 263091151.0, 743: 714024.0, 744: 7501.0, 745: 12769001.0, 746: 300613931.0, 747: 82.0, 748: 5658247.0, 749: 167573023.0, 750: 2550251.0, 751: 589999787.0, 752: 4607.0, 753: 423135340.0, 754: 836977699.0, 755: 1209.0, 756: 55.0, 757: 150663196.0, 758: 413959717.0, 759: 551.0, 760: 52021.0, 761: 1280001.0, 762: 6349.0, 763: 271728688.0, 764: 250215553.0, 765: 285769.0, 766: 363798414.0, 767: 31212.0, 768: 18817.0, 769: 570214728.0, 770: 111.0, 771: 696807413.0, 772: 783766984.0, 773: 373378327.0, 774: 10405.0, 775: 4620799.0, 776: 195.0, 777: 223.0, 778: 2178548422.0, 779: 11785490.0, 780: 391.0, 781: 67606199.0, 782: 783.0, 783: 28.0, 785: 1569.0, 786: 785.0, 787: 584659685.0, 788: 393.0, 789: 275779551.0, 790: 707513228.0, 791: 225.0, 792: 197.0, 793: 4393.0, 794: 325449512.0, 795: 6626.0, 796: 1196442047.0, 797: 1216797167.0, 798: 113.0, 799: 424.0, 800: 19601.0, 801: 650973651.0, 802: 295496099.0, 803: 7226.0, 804: 515095.0, 805: 386225097.0, 806: 6166395.0, 807: 51841948.0, 808: 19731763.0, 809: 278601383.0, 810: 27379.0, 811: 306799399.0, 812: 57.0, 813: 2167.0, 814: 548663137.0, 815: 156644.0, 816: 4999.0, 817: 343.0, 818: 40899.0, 819: 1574.0, 820: 39689.0, 821: 262083723.0, 822: 7397.0, 823: 431722462.0, 824: 59535.0, 825: 48599.0, 826: 615591509.0, 827: 900602.0, 828: 1151.0, 829: 879672881.0, 830: 146411.0, 831: 9799705.0, 832: 842401.0, 833: 9478657.0, 834: 579749836.0, 835: 553153089.0, 836: 46551.0, 837: 12151.0, 838: 576238683.0, 839: 840.0, 840: 29.0, 842: 1683.0, 843: 842.0, 844: 582453114.0, 845: 299537289.0, 846: 2143295.0, 847: 8193151.0, 848: 66249.0, 849: 888102911.0, 850: 2449.0, 851: 8418574.0, 852: 194399.0, 853: 716385636.0, 854: 1294299.0, 855: 3041.0, 856: 622103357.0, 857: 473105997.0, 858: 703.0, 859: 442140817.0, 860: 3871.0, 861: 541601801.0, 862: 713551220.0, 863: 275881016.0, 864: 470449.0, 865: 348345108.0, 866: 42435.0, 867: 70226.0, 868: 3844063.0, 869: 291842773.0, 870: 59.0, 871: 494202326.0, 872: 126003.0, 873: 62809633.0, 874: 3725.0, 875: 120126.0, 876: 10951.0, 877: 628901390.0, 878: 9314703.0, 879: 107245324.0, 880: 89.0, 881: 407030946.0, 882: 19601.0, 883: 1186224595.0, 884: 1665.0, 885: 119.0, 886: 519758729.0, 887: 469224.0, 888: 149.0, 889: 994414235.0, 890: 179.0, 891: 3970.0, 892: 100351.0, 893: 712054670.0, 894: 299.0, 895: 359.0, 896: 449.0, 897: 599.0, 898: 899.0, 899: 30.0, 901: 1801.0, 902: 901.0, 903: 601.0, 904: 451.0, 905: 361.0, 906: 301.0, 907: 1028830619.0, 908: 102151.0, 909: 80801.0, 910: 181.0, 911: 551326625.0, 912: 151.0, 913: 306075029.0, 914: 62563299.0, 915: 121.0, 916: 5848201.0, 917: 823604599.0, 918: 4120901.0, 919: 384900835.0, 920: 91.0, 921: 1114256834.0, 922: 419288307.0, 923: 638.0, 924: 11551.0, 925: 1555849.0, 926: 527303951.0, 927: 227528.0, 928: 768555217.0, 929: 292375805.0, 930: 61.0, 931: 164264819.0, 932: 566951474.0, 933: 75263.0, 934: 3034565.0, 935: 1376.0, 936: 5201.0, 937: 387343513.0, 938: 17151.0, 939: 122695.0, 940: 4231.0, 941: 731069390.0, 942: 106133.0, 943: 737.0, 944: 561799.0, 945: 275561.0, 946: 619613483.0, 947: 536522573.0, 948: 228151.0, 949: 1016454459.0, 950: 202501.0, 951: 224208076.0, 952: 11663.0, 953: 355174883.0, 954: 32080051.0, 955: 609252657.0, 956: 572298213.0, 957: 14849.0, 958: 129470160.0, 959: 960.0, 960: 31.0, 962: 1923.0, 963: 962.0, 964: 142022136.0, 965: 446526729.0, 966: 57499.0, 967: 1114540897.0, 968: 19601.0, 969: 13588951.0, 970: 143087944.0, 971: 991706964.0, 972: 606471923.0, 973: 903223.0, 974: 676646957.0, 975: 1249.0, 976: 425680601.0, 977: 619577520.0, 978: 118337.0, 979: 360449.0, 980: 51841.0, 981: 372326272.0, 982: 8837.0, 983: 284088.0, 984: 88805.0, 985: 332929.0, 986: 49299.0, 987: 377.0, 988: 396778604.0, 989: 644506991.0, 990: 881.0, 991: 775587755.0, 992: 63.0, 993: 2647.0, 994: 1135.0, 995: 8835999.0, 996: 8553815.0, 997: 391416439.0, 998: 402351652.0, 999: 102688615.0, 1000: 39480499.0}\n"
     ]
    }
   ],
   "source": [
    "print(D_min_x)"
   ]
  },
  {
   "cell_type": "code",
   "execution_count": 10,
   "metadata": {},
   "outputs": [
    {
     "name": "stdout",
     "output_type": "stream",
     "text": [
      "2178548422.0\n"
     ]
    }
   ],
   "source": [
    "print(max(D_min_x.values()))"
   ]
  },
  {
   "cell_type": "code",
   "execution_count": null,
   "metadata": {},
   "outputs": [],
   "source": [
    ""
   ]
  }
 ],
 "metadata": {
  "kernelspec": {
   "display_name": "Python 2",
   "language": "python",
   "name": "python2"
  },
  "language_info": {
   "codemirror_mode": {
    "name": "ipython",
    "version": 2.0
   },
   "file_extension": ".py",
   "mimetype": "text/x-python",
   "name": "python",
   "nbconvert_exporter": "python",
   "pygments_lexer": "ipython2",
   "version": "2.7.6"
  }
 },
 "nbformat": 4,
 "nbformat_minor": 0
}