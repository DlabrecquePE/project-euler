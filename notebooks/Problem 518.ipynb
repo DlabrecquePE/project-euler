{
 "cells": [
  {
   "cell_type": "code",
   "execution_count": 1,
   "metadata": {},
   "outputs": [],
   "source": [
    "def gen_primes():\n",
    "    \"\"\" Generate an infinite sequence of prime numbers \"\"\"\n",
    "    d, q = {}, 2\n",
    "    while True:\n",
    "        if q not in d:\n",
    "            yield q\n",
    "            d[q * q] = [q]\n",
    "        else:\n",
    "            for p in d[q]:\n",
    "                d.setdefault(p + q, []).append(p)\n",
    "            del d[q]\n",
    "        q += 1"
   ]
  },
  {
   "cell_type": "code",
   "execution_count": 2,
   "metadata": {},
   "outputs": [],
   "source": [
    "primer, prime_list, max_prime = gen_primes(), [], 10 ** 8\n",
    "while True:\n",
    "    prime = next(primer)\n",
    "    if prime < max_prime:\n",
    "        prime_list.append(prime + 1)\n",
    "    else:\n",
    "        break\n",
    "prime_set = set(prime_list)"
   ]
  },
  {
   "cell_type": "code",
   "execution_count": 3,
   "metadata": {},
   "outputs": [],
   "source": [
    "tuple_sum, len_prime_list = 0, len(prime_list)\n",
    "for i, b in enumerate(prime_list[1:-1]):\n",
    "    b_sq = b * b\n",
    "    if i < len_prime_list // 2:\n",
    "        for a in prime_list[i::-1]:\n",
    "            c = b_sq / a\n",
    "            if c > max_prime:\n",
    "                break\n",
    "            elif c in prime_set:\n",
    "                tuple_sum += sum([a - 1, b - 1, c - 1])\n",
    "    else:\n",
    "        for c in prime_list[i + 2:]:\n",
    "            a = b_sq / c\n",
    "            if a < 3:\n",
    "                break\n",
    "            elif a in prime_set:\n",
    "                tuple_sum += sum([a - 1, b - 1, c - 1])\n",
    "            "
   ]
  },
  {
   "cell_type": "code",
   "execution_count": null,
   "metadata": {},
   "outputs": [],
   "source": [
    "print(tuple_sum)"
   ]
  }
 ],
 "metadata": {
  "kernelspec": {
   "display_name": "Python 3",
   "language": "python",
   "name": "python3"
  },
  "language_info": {
   "codemirror_mode": {
    "name": "ipython",
    "version": 3
   },
   "file_extension": ".py",
   "mimetype": "text/x-python",
   "name": "python",
   "nbconvert_exporter": "python",
   "pygments_lexer": "ipython3",
   "version": "3.9.0"
  },
  "orig_nbformat": 4
 },
 "nbformat": 4,
 "nbformat_minor": 2
}
