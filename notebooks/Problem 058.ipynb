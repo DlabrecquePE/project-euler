{
 "cells": [
  {
   "cell_type": "code",
   "execution_count": 14,
   "metadata": {
    "collapsed": true
   },
   "outputs": [],
   "source": [
    "def prime_list(n):\n",
    "    \"\"\" Returns a list of primes < n \"\"\"\n",
    "    sieve = [True] * n\n",
    "    for i in range(3,int(n**0.5)+1,2):\n",
    "        if sieve[i]:\n",
    "            sieve[i*i::2*i]=[False]*((n-i*i-1)//(2*i)+1)\n",
    "    return [2] + [i for i in range(3,n,2) if sieve[i]]"
   ]
  },
  {
   "cell_type": "code",
   "execution_count": 15,
   "metadata": {},
   "outputs": [],
   "source": [
    "def gen_primes():\n",
    "    \"\"\" Generate an infinite sequence of prime numbers \"\"\"\n",
    "    D, q = {}, 2\n",
    "    while True:\n",
    "        if q not in D:\n",
    "            yield q\n",
    "            D[q * q] = [q]\n",
    "        else:\n",
    "            for p in D[q]:\n",
    "                D.setdefault(p + q, []).append(p)\n",
    "            del D[q]\n",
    "        q += 1"
   ]
  },
  {
   "cell_type": "code",
   "execution_count": 22,
   "metadata": {},
   "outputs": [],
   "source": [
    "def is_prime(num):\n",
    "    for prime in prime_divisors:\n",
    "        if prime > num ** 0.5:\n",
    "            break\n",
    "        if not num % prime:\n",
    "            return False\n",
    "    return True"
   ]
  },
  {
   "cell_type": "code",
   "execution_count": 17,
   "metadata": {},
   "outputs": [],
   "source": [
    "def spiral_prime_corners(num):\n",
    "    import numpy as np\n",
    "    np.set_printoptions(linewidth=999999)\n",
    "    if not num % 2:\n",
    "        return None\n",
    "    spiral, diag_array = np.zeros((num, num), dtype=bool), set()\n",
    "    col = row = (num // 2)\n",
    "    check = 'R'\n",
    "    for step in range(1, (num ** 2) + 1):\n",
    "        spiral[row][col] = True\n",
    "        if check == 'R':\n",
    "            if not spiral[row][col + 1]:\n",
    "                check = 'U'\n",
    "                col += 1\n",
    "                diag_array.add(step)\n",
    "            else:\n",
    "                row += 1\n",
    "        elif check == 'L':\n",
    "            if not spiral[row][col - 1]:\n",
    "                check = 'D'\n",
    "                col -= 1\n",
    "                diag_array.add(step)\n",
    "            else:\n",
    "                row -= 1\n",
    "        elif check == 'U':\n",
    "            if not spiral[row - 1][col]:\n",
    "                check = 'L'\n",
    "                row -= 1\n",
    "            else:\n",
    "                col += 1\n",
    "        elif check == 'D':\n",
    "            if not spiral[row + 1][col]:\n",
    "                check = 'R'\n",
    "                row += 1\n",
    "                diag_array.add(step)\n",
    "            else:\n",
    "                col -= 1\n",
    "    return diag_array"
   ]
  },
  {
   "cell_type": "code",
   "execution_count": 18,
   "metadata": {},
   "outputs": [],
   "source": [
    "def ullam_corners(sidelength):\n",
    "    value1, value2, corners, k, j = 0, 0, set(), 1, 1\n",
    "    while value1 < sidelength ** 2:\n",
    "        corners.add(value1)\n",
    "        value1 = 4 * k ** 2 + 1\n",
    "        k += 1\n",
    "    while value2 < sidelength ** 2:\n",
    "        corners.add(value2)\n",
    "        value2 = j ** 2 + j + 1\n",
    "        j += 1\n",
    "    return corners"
   ]
  },
  {
   "cell_type": "code",
   "execution_count": 19,
   "metadata": {},
   "outputs": [],
   "source": [
    "def gen_ullam_corners(sidelength=3):\n",
    "    k, j, value = 1, 1, 0\n",
    "    while True:\n",
    "        batch = set()\n",
    "        value = 4 * k ** 2 + 1\n",
    "        while value < sidelength ** 2:\n",
    "            batch.add(value)\n",
    "            k += 1\n",
    "            value = 4 * k ** 2 + 1\n",
    "        value = j ** 2 + j + 1\n",
    "        while value < sidelength ** 2:\n",
    "            batch.add(value)\n",
    "            j += 1\n",
    "            value = j ** 2 + j + 1\n",
    "        yield batch\n",
    "        sidelength += 2"
   ]
  },
  {
   "cell_type": "code",
   "execution_count": 24,
   "metadata": {
    "collapsed": false
   },
   "outputs": [
    {
     "name": "stdout",
     "output_type": "stream",
     "text": [
      "side:  999 percentage:  0.15022533800701052\nside:  "
     ]
    },
    {
     "name": "stdout",
     "output_type": "stream",
     "text": [
      "2997 percentage:  0.13332220924411814\nside:  4995 percentage:  0.12513765141655822\n"
     ]
    },
    {
     "name": "stdout",
     "output_type": "stream",
     "text": [
      "side:  6993 percentage:  0.1189131212012871\n"
     ]
    },
    {
     "name": "stdout",
     "output_type": "stream",
     "text": [
      "side:  8991 percentage:  0.1132862465936266\n"
     ]
    },
    {
     "name": "stdout",
     "output_type": "stream",
     "text": [
      "side:  10989 percentage:  0.11161669017609319\n"
     ]
    },
    {
     "name": "stdout",
     "output_type": "stream",
     "text": [
      "side:  12987 percentage:  0.10865129172602318\n"
     ]
    },
    {
     "name": "stdout",
     "output_type": "stream",
     "text": [
      "side:  14985 percentage:  0.10630985351529915\n"
     ]
    },
    {
     "name": "stdout",
     "output_type": "stream",
     "text": [
      "side:  16983 percentage:  0.1053142941263065\n"
     ]
    },
    {
     "name": "stdout",
     "output_type": "stream",
     "text": [
      "side:  18981 percentage:  0.10381707541950949\n"
     ]
    },
    {
     "name": "stdout",
     "output_type": "stream",
     "text": [
      "side:  20979 percentage:  0.10250971232452273\n"
     ]
    },
    {
     "name": "stdout",
     "output_type": "stream",
     "text": [
      "side:  22977 percentage:  0.10195199442909059\n"
     ]
    },
    {
     "name": "stdout",
     "output_type": "stream",
     "text": [
      "side:  24975 percentage:  0.10074275761276502\n"
     ]
    },
    {
     "name": "stdout",
     "output_type": "stream",
     "text": [
      "sidelength found:  26241 688563841\n"
     ]
    }
   ],
   "source": [
    "c_gen = gen_ullam_corners()\n",
    "prime_divisors = prime_list(32768)\n",
    "side, p_count = 3, 0\n",
    "while True:\n",
    "    c_list = set(next(c_gen))\n",
    "    for elem in c_list:\n",
    "        if is_prime(elem):\n",
    "            p_count += 1\n",
    "    percentage = p_count / (2 * side - 1)\n",
    "    if percentage < 0.1:\n",
    "        print('sidelength found: ', side, max(c_list))\n",
    "        break\n",
    "    if not side % 999:\n",
    "        print('side: ', side, 'percentage: ', percentage)\n",
    "    side += 2"
   ]
  },
  {
   "cell_type": "code",
   "execution_count": null,
   "metadata": {},
   "outputs": [],
   "source": [
    ""
   ]
  }
 ],
 "metadata": {
  "kernelspec": {
   "display_name": "Python 2",
   "language": "python",
   "name": "python2"
  },
  "language_info": {
   "codemirror_mode": {
    "name": "ipython",
    "version": 2.0
   },
   "file_extension": ".py",
   "mimetype": "text/x-python",
   "name": "python",
   "nbconvert_exporter": "python",
   "pygments_lexer": "ipython2",
   "version": "2.7.6"
  }
 },
 "nbformat": 4,
 "nbformat_minor": 0
}