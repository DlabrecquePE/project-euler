{
 "cells": [
  {
   "cell_type": "markdown",
   "metadata": {},
   "source": [
    "# Lattice Paths\r\n",
    "## Problem 15\r\n",
    "\r\n",
    "---\r\n",
    "\r\n",
    "<p>Starting in the top left corner of a 2×2 grid, and only being able to move to the right and down, there are exactly 6 routes to the bottom right corner.</p>\r\n",
    "<div class=\"center\">\r\n",
    "<img src=\"https://projecteuler.net/project/images/p015.png\" class=\"dark_img\" alt=\"\" /></div>\r\n",
    "<p>How many such routes are there through a 20×20 grid?</p>\r\n",
    "\r\n",
    "---\r\n"
   ]
  },
  {
   "cell_type": "code",
   "execution_count": 1,
   "metadata": {},
   "outputs": [
    {
     "name": "stdout",
     "output_type": "stream",
     "text": [
      "137846528820\n"
     ]
    }
   ],
   "source": [
    "from math import factorial\r\n",
    "print(factorial(40)//(factorial(20)**2))"
   ]
  }
 ],
 "metadata": {
  "kernelspec": {
   "display_name": "Python 3",
   "language": "python",
   "name": "python3"
  },
  "language_info": {
   "codemirror_mode": {
    "name": "ipython",
    "version": 3
   },
   "file_extension": ".py",
   "mimetype": "text/x-python",
   "name": "python",
   "nbconvert_exporter": "python",
   "pygments_lexer": "ipython3",
   "version": "3.9.0"
  },
  "orig_nbformat": 2
 },
 "nbformat": 4,
 "nbformat_minor": 2
}