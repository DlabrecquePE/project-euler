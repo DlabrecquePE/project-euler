{
 "cells": [
  {
   "cell_type": "code",
   "execution_count": 4,
   "metadata": {},
   "outputs": [],
   "source": [
    "def gen_primes():\n",
    "    \"\"\" Generate an infinite sequence of prime numbers \"\"\"\n",
    "    d, q = {}, 2\n",
    "    while True:\n",
    "        if q not in d:\n",
    "            yield q\n",
    "            d[q * q] = [q]\n",
    "        else:\n",
    "            for p in d[q]:\n",
    "                d.setdefault(p + q, []).append(p)\n",
    "            del d[q]\n",
    "        q += 1\n",
    "\n",
    "\n",
    "def factorize(num):\n",
    "    \"\"\" Returns a list of prime factors of num \"\"\"\n",
    "    prime_factors, primes, root_num, old_num = [1], gen_primes(), num ** 0.5, num\n",
    "    for prime in primes:\n",
    "        while not num % prime:\n",
    "            prime_factors.append(prime)\n",
    "            num = num // prime\n",
    "        if num == 1:\n",
    "            if prime_factors == [1]:\n",
    "                return [1, old_num]\n",
    "            else:\n",
    "                return sorted(prime_factors)\n",
    "        "
   ]
  },
  {
   "cell_type": "code",
   "execution_count": 5,
   "metadata": {},
   "outputs": [
    {
     "name": "stdout",
     "output_type": "stream",
     "text": [
      "34029210557338\n"
     ]
    }
   ],
   "source": [
    "from math import factorial\n",
    "rows, coef_list, sum_list = 51, [], [1]\n",
    "for n in range(rows):\n",
    "    for k in range(n + 1):\n",
    "        coef_list.append(factorial(n)//(factorial(k) * factorial(n - k)))\n",
    "for elem in coef_list:\n",
    "    test_list = factorize(elem)\n",
    "    if len(test_list) == len(set(test_list)):\n",
    "        sum_list.append(elem)\n",
    "print(sum(set(sum_list)))"
   ]
  }
 ],
 "metadata": {
  "kernelspec": {
   "display_name": "Python 3",
   "language": "python",
   "name": "python3"
  },
  "language_info": {
   "codemirror_mode": {
    "name": "ipython",
    "version": 3
   },
   "file_extension": ".py",
   "mimetype": "text/x-python",
   "name": "python",
   "nbconvert_exporter": "python",
   "pygments_lexer": "ipython3",
   "version": "3.9.0"
  },
  "orig_nbformat": 4
 },
 "nbformat": 4,
 "nbformat_minor": 2
}
