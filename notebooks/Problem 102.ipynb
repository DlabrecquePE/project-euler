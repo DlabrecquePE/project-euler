{
 "cells": [
  {
   "cell_type": "code",
   "execution_count": 9,
   "metadata": {},
   "outputs": [],
   "source": [
    "def magnitude(vector):\n",
    "    return sum(list(i ** 2 for i in vector)) ** 0.5\n",
    "\n",
    "\n",
    "def dot_2d(vector1, vector2):\n",
    "    return vector1[0] * vector2[0] + vector1[1] * vector2[1]\n",
    "\n",
    "\n",
    "def angle(vector1, vector2):\n",
    "    from math import acos\n",
    "    return acos(dot_2d(vector1, vector2) / (magnitude(vector1) * magnitude(vector2)))"
   ]
  },
  {
   "cell_type": "code",
   "execution_count": 11,
   "metadata": {
    "collapsed": true
   },
   "outputs": [
    {
     "name": "stdout",
     "output_type": "stream",
     "text": [
      "228\n"
     ]
    }
   ],
   "source": [
    "file = open('p102_triangles.txt', 'r')\n",
    "origin_count, pi = 0, 3.14159265359\n",
    "for data in file.readlines():\n",
    "    triangle = [int(x) for x in data.split(',')]\n",
    "    v1, v2, v3 = triangle[:2], triangle[2:4], triangle[4:]\n",
    "    angles = sorted([angle(v1, v2), angle(v2, v3), angle(v3, v1)])\n",
    "    if angles[0] + angles[1] >= pi:\n",
    "        origin_count += 1\n",
    "print(origin_count)"
   ]
  },
  {
   "cell_type": "code",
   "execution_count": null,
   "metadata": {},
   "outputs": [],
   "source": [
    ""
   ]
  }
 ],
 "metadata": {
  "kernelspec": {
   "display_name": "Python 2",
   "language": "python",
   "name": "python2"
  },
  "language_info": {
   "codemirror_mode": {
    "name": "ipython",
    "version": 2.0
   },
   "file_extension": ".py",
   "mimetype": "text/x-python",
   "name": "python",
   "nbconvert_exporter": "python",
   "pygments_lexer": "ipython2",
   "version": "2.7.6"
  }
 },
 "nbformat": 4,
 "nbformat_minor": 0
}