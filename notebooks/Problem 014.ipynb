{
 "cells": [
  {
   "cell_type": "markdown",
   "metadata": {},
   "source": [
    "# Longest Collatz sequence\r\n",
    "## Problem 14\r\n",
    "\r\n",
    "---\r\n",
    "\r\n",
    "<p>The following iterative sequence is defined for the set of positive integers:</p>\r\n",
    "<p class=\"margin_left\"><var>n</var> → <var>n</var>/2 (<var>n</var> is even)<br /><var>n</var> → 3<var>n</var> + 1 (<var>n</var> is odd)</p>\r\n",
    "<p>Using the rule above and starting with 13, we generate the following sequence:</p>\r\n",
    "<div class=\"center\">13 → 40 → 20 → 10 → 5 → 16 → 8 → 4 → 2 → 1</div>\r\n",
    "<p>It can be seen that this sequence (starting at 13 and finishing at 1) contains 10 terms. Although it has not been proved yet (Collatz Problem), it is thought that all starting numbers finish at 1.</p>\r\n",
    "<p>Which starting number, under one million, produces the longest chain?</p>\r\n",
    "<p class=\"note\"><b>NOTE:</b> Once the chain starts the terms are allowed to go above one million.</p>\r\n",
    "\r\n",
    "---\r\n",
    "\r\n",
    "https://projecteuler.net/minimal=14\r\n",
    "\r\n",
    "https://projecteuler.net/problem=14\r\n",
    "\r\n"
   ]
  },
  {
   "cell_type": "code",
   "execution_count": 16,
   "metadata": {},
   "outputs": [],
   "source": [
    "from functools import lru_cache"
   ]
  },
  {
   "cell_type": "code",
   "execution_count": 18,
   "metadata": {},
   "outputs": [],
   "source": [
    "@lru_cache(maxsize=2**10)\r\n",
    "def collatz(num):\r\n",
    "    if num == 1:\r\n",
    "        return 1\r\n",
    "    if not num % 2:\r\n",
    "        return 1 + collatz(num // 2)\r\n",
    "    return 1 + collatz(num * 3 + 1)\r\n"
   ]
  },
  {
   "cell_type": "code",
   "execution_count": 19,
   "metadata": {},
   "outputs": [
    {
     "name": "stdout",
     "output_type": "stream",
     "text": [
      "837799\n"
     ]
    }
   ],
   "source": [
    "chains = {x : collatz(x) for x in range(1, 10 ** 6)}\r\n",
    "\r\n",
    "print(max(chains, key=chains.get))"
   ]
  }
 ],
 "metadata": {
  "kernelspec": {
   "display_name": "Python 3",
   "language": "python",
   "name": "python3"
  },
  "language_info": {
   "codemirror_mode": {
    "name": "ipython",
    "version": 3
   },
   "file_extension": ".py",
   "mimetype": "text/x-python",
   "name": "python",
   "nbconvert_exporter": "python",
   "pygments_lexer": "ipython3",
   "version": "3.9.0"
  },
  "orig_nbformat": 2
 },
 "nbformat": 4,
 "nbformat_minor": 2
}